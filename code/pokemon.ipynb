{
 "cells": [
  {
   "cell_type": "markdown",
   "metadata": {},
   "source": [
    "# Analyzing Pokemon Data"
   ]
  },
  {
   "cell_type": "code",
   "execution_count": 1,
   "metadata": {},
   "outputs": [
    {
     "data": {
      "text/html": [
       "<div><style>\n",
       ".dataframe > thead > tr > th,\n",
       ".dataframe > tbody > tr > td {\n",
       "  text-align: right;\n",
       "  white-space: pre-wrap;\n",
       "}\n",
       "</style>\n",
       "<small>shape: (800, 12)</small><table border=\"1\" class=\"dataframe\"><thead><tr><th>#</th><th>Name</th><th>Type 1</th><th>Type 2</th><th>HP</th><th>Attack</th><th>Defense</th><th>Sp. Atk</th><th>Sp. Def</th><th>Speed</th><th>Generation</th><th>Legendary</th></tr><tr><td>i64</td><td>str</td><td>str</td><td>str</td><td>i64</td><td>i64</td><td>i64</td><td>i64</td><td>i64</td><td>i64</td><td>i64</td><td>bool</td></tr></thead><tbody><tr><td>1</td><td>&quot;Bulbasaur&quot;</td><td>&quot;Grass&quot;</td><td>&quot;Poison&quot;</td><td>45</td><td>49</td><td>49</td><td>65</td><td>65</td><td>45</td><td>1</td><td>false</td></tr><tr><td>2</td><td>&quot;Ivysaur&quot;</td><td>&quot;Grass&quot;</td><td>&quot;Poison&quot;</td><td>60</td><td>62</td><td>63</td><td>80</td><td>80</td><td>60</td><td>1</td><td>false</td></tr><tr><td>3</td><td>&quot;Venusaur&quot;</td><td>&quot;Grass&quot;</td><td>&quot;Poison&quot;</td><td>80</td><td>82</td><td>83</td><td>100</td><td>100</td><td>80</td><td>1</td><td>false</td></tr><tr><td>3</td><td>&quot;VenusaurMega Venusaur&quot;</td><td>&quot;Grass&quot;</td><td>&quot;Poison&quot;</td><td>80</td><td>100</td><td>123</td><td>122</td><td>120</td><td>80</td><td>1</td><td>false</td></tr><tr><td>4</td><td>&quot;Charmander&quot;</td><td>&quot;Fire&quot;</td><td>null</td><td>39</td><td>52</td><td>43</td><td>60</td><td>50</td><td>65</td><td>1</td><td>false</td></tr><tr><td>&hellip;</td><td>&hellip;</td><td>&hellip;</td><td>&hellip;</td><td>&hellip;</td><td>&hellip;</td><td>&hellip;</td><td>&hellip;</td><td>&hellip;</td><td>&hellip;</td><td>&hellip;</td><td>&hellip;</td></tr><tr><td>719</td><td>&quot;Diancie&quot;</td><td>&quot;Rock&quot;</td><td>&quot;Fairy&quot;</td><td>50</td><td>100</td><td>150</td><td>100</td><td>150</td><td>50</td><td>6</td><td>true</td></tr><tr><td>719</td><td>&quot;DiancieMega Diancie&quot;</td><td>&quot;Rock&quot;</td><td>&quot;Fairy&quot;</td><td>50</td><td>160</td><td>110</td><td>160</td><td>110</td><td>110</td><td>6</td><td>true</td></tr><tr><td>720</td><td>&quot;HoopaHoopa Confined&quot;</td><td>&quot;Psychic&quot;</td><td>&quot;Ghost&quot;</td><td>80</td><td>110</td><td>60</td><td>150</td><td>130</td><td>70</td><td>6</td><td>true</td></tr><tr><td>720</td><td>&quot;HoopaHoopa Unbound&quot;</td><td>&quot;Psychic&quot;</td><td>&quot;Dark&quot;</td><td>80</td><td>160</td><td>60</td><td>170</td><td>130</td><td>80</td><td>6</td><td>true</td></tr><tr><td>721</td><td>&quot;Volcanion&quot;</td><td>&quot;Fire&quot;</td><td>&quot;Water&quot;</td><td>80</td><td>110</td><td>120</td><td>130</td><td>90</td><td>70</td><td>6</td><td>true</td></tr></tbody></table></div>"
      ],
      "text/plain": [
       "shape: (800, 12)\n",
       "┌─────┬───────────────────────┬─────────┬────────┬───┬─────────┬───────┬────────────┬───────────┐\n",
       "│ #   ┆ Name                  ┆ Type 1  ┆ Type 2 ┆ … ┆ Sp. Def ┆ Speed ┆ Generation ┆ Legendary │\n",
       "│ --- ┆ ---                   ┆ ---     ┆ ---    ┆   ┆ ---     ┆ ---   ┆ ---        ┆ ---       │\n",
       "│ i64 ┆ str                   ┆ str     ┆ str    ┆   ┆ i64     ┆ i64   ┆ i64        ┆ bool      │\n",
       "╞═════╪═══════════════════════╪═════════╪════════╪═══╪═════════╪═══════╪════════════╪═══════════╡\n",
       "│ 1   ┆ Bulbasaur             ┆ Grass   ┆ Poison ┆ … ┆ 65      ┆ 45    ┆ 1          ┆ false     │\n",
       "│ 2   ┆ Ivysaur               ┆ Grass   ┆ Poison ┆ … ┆ 80      ┆ 60    ┆ 1          ┆ false     │\n",
       "│ 3   ┆ Venusaur              ┆ Grass   ┆ Poison ┆ … ┆ 100     ┆ 80    ┆ 1          ┆ false     │\n",
       "│ 3   ┆ VenusaurMega Venusaur ┆ Grass   ┆ Poison ┆ … ┆ 120     ┆ 80    ┆ 1          ┆ false     │\n",
       "│ 4   ┆ Charmander            ┆ Fire    ┆ null   ┆ … ┆ 50      ┆ 65    ┆ 1          ┆ false     │\n",
       "│ …   ┆ …                     ┆ …       ┆ …      ┆ … ┆ …       ┆ …     ┆ …          ┆ …         │\n",
       "│ 719 ┆ Diancie               ┆ Rock    ┆ Fairy  ┆ … ┆ 150     ┆ 50    ┆ 6          ┆ true      │\n",
       "│ 719 ┆ DiancieMega Diancie   ┆ Rock    ┆ Fairy  ┆ … ┆ 110     ┆ 110   ┆ 6          ┆ true      │\n",
       "│ 720 ┆ HoopaHoopa Confined   ┆ Psychic ┆ Ghost  ┆ … ┆ 130     ┆ 70    ┆ 6          ┆ true      │\n",
       "│ 720 ┆ HoopaHoopa Unbound    ┆ Psychic ┆ Dark   ┆ … ┆ 130     ┆ 80    ┆ 6          ┆ true      │\n",
       "│ 721 ┆ Volcanion             ┆ Fire    ┆ Water  ┆ … ┆ 90      ┆ 70    ┆ 6          ┆ true      │\n",
       "└─────┴───────────────────────┴─────────┴────────┴───┴─────────┴───────┴────────────┴───────────┘"
      ]
     },
     "execution_count": 1,
     "metadata": {},
     "output_type": "execute_result"
    }
   ],
   "source": [
    "import polars as pl\n",
    "pl.Config.set_tbl_rows(10)\n",
    "pl.Config.set_fmt_str_lengths(30)\n",
    "\n",
    "df = pl.read_csv('https://raw.githubusercontent.com/KeithGalli/pandas/master/pokemon_data.csv')\n",
    "df"
   ]
  },
  {
   "cell_type": "code",
   "execution_count": 2,
   "metadata": {},
   "outputs": [
    {
     "data": {
      "text/plain": [
       "['#',\n",
       " 'Name',\n",
       " 'Type 1',\n",
       " 'Type 2',\n",
       " 'HP',\n",
       " 'Attack',\n",
       " 'Defense',\n",
       " 'Sp. Atk',\n",
       " 'Sp. Def',\n",
       " 'Speed',\n",
       " 'Generation',\n",
       " 'Legendary']"
      ]
     },
     "execution_count": 2,
     "metadata": {},
     "output_type": "execute_result"
    }
   ],
   "source": [
    "# Show column names\n",
    "df.columns"
   ]
  },
  {
   "cell_type": "code",
   "execution_count": 5,
   "metadata": {},
   "outputs": [
    {
     "data": {
      "text/html": [
       "<div><style>\n",
       ".dataframe > thead > tr > th,\n",
       ".dataframe > tbody > tr > td {\n",
       "  text-align: right;\n",
       "  white-space: pre-wrap;\n",
       "}\n",
       "</style>\n",
       "<small>shape: (1, 12)</small><table border=\"1\" class=\"dataframe\"><thead><tr><th>#</th><th>Name</th><th>Type 1</th><th>Type 2</th><th>HP</th><th>Attack</th><th>Defense</th><th>Sp. Atk</th><th>Sp. Def</th><th>Speed</th><th>Generation</th><th>Legendary</th></tr><tr><td>i64</td><td>str</td><td>str</td><td>str</td><td>i64</td><td>i64</td><td>i64</td><td>i64</td><td>i64</td><td>i64</td><td>i64</td><td>bool</td></tr></thead><tbody><tr><td>1</td><td>&quot;Bulbasaur&quot;</td><td>&quot;Grass&quot;</td><td>&quot;Poison&quot;</td><td>45</td><td>49</td><td>49</td><td>65</td><td>65</td><td>45</td><td>1</td><td>false</td></tr></tbody></table></div>"
      ],
      "text/plain": [
       "shape: (1, 12)\n",
       "┌─────┬───────────┬────────┬────────┬───┬─────────┬───────┬────────────┬───────────┐\n",
       "│ #   ┆ Name      ┆ Type 1 ┆ Type 2 ┆ … ┆ Sp. Def ┆ Speed ┆ Generation ┆ Legendary │\n",
       "│ --- ┆ ---       ┆ ---    ┆ ---    ┆   ┆ ---     ┆ ---   ┆ ---        ┆ ---       │\n",
       "│ i64 ┆ str       ┆ str    ┆ str    ┆   ┆ i64     ┆ i64   ┆ i64        ┆ bool      │\n",
       "╞═════╪═══════════╪════════╪════════╪═══╪═════════╪═══════╪════════════╪═══════════╡\n",
       "│ 1   ┆ Bulbasaur ┆ Grass  ┆ Poison ┆ … ┆ 65      ┆ 45    ┆ 1          ┆ false     │\n",
       "└─────┴───────────┴────────┴────────┴───┴─────────┴───────┴────────────┴───────────┘"
      ]
     },
     "execution_count": 5,
     "metadata": {},
     "output_type": "execute_result"
    }
   ],
   "source": [
    "# Read a specific row like row 1.\n",
    "df[0]"
   ]
  },
  {
   "cell_type": "code",
   "execution_count": 7,
   "metadata": {},
   "outputs": [
    {
     "data": {
      "text/html": [
       "<div><style>\n",
       ".dataframe > thead > tr > th,\n",
       ".dataframe > tbody > tr > td {\n",
       "  text-align: right;\n",
       "  white-space: pre-wrap;\n",
       "}\n",
       "</style>\n",
       "<small>shape: (70, 12)</small><table border=\"1\" class=\"dataframe\"><thead><tr><th>#</th><th>Name</th><th>Type 1</th><th>Type 2</th><th>HP</th><th>Attack</th><th>Defense</th><th>Sp. Atk</th><th>Sp. Def</th><th>Speed</th><th>Generation</th><th>Legendary</th></tr><tr><td>i64</td><td>str</td><td>str</td><td>str</td><td>i64</td><td>i64</td><td>i64</td><td>i64</td><td>i64</td><td>i64</td><td>i64</td><td>bool</td></tr></thead><tbody><tr><td>1</td><td>&quot;Bulbasaur&quot;</td><td>&quot;Grass&quot;</td><td>&quot;Poison&quot;</td><td>45</td><td>49</td><td>49</td><td>65</td><td>65</td><td>45</td><td>1</td><td>false</td></tr><tr><td>2</td><td>&quot;Ivysaur&quot;</td><td>&quot;Grass&quot;</td><td>&quot;Poison&quot;</td><td>60</td><td>62</td><td>63</td><td>80</td><td>80</td><td>60</td><td>1</td><td>false</td></tr><tr><td>3</td><td>&quot;Venusaur&quot;</td><td>&quot;Grass&quot;</td><td>&quot;Poison&quot;</td><td>80</td><td>82</td><td>83</td><td>100</td><td>100</td><td>80</td><td>1</td><td>false</td></tr><tr><td>3</td><td>&quot;VenusaurMega Venusaur&quot;</td><td>&quot;Grass&quot;</td><td>&quot;Poison&quot;</td><td>80</td><td>100</td><td>123</td><td>122</td><td>120</td><td>80</td><td>1</td><td>false</td></tr><tr><td>43</td><td>&quot;Oddish&quot;</td><td>&quot;Grass&quot;</td><td>&quot;Poison&quot;</td><td>45</td><td>50</td><td>55</td><td>75</td><td>65</td><td>30</td><td>1</td><td>false</td></tr><tr><td>&hellip;</td><td>&hellip;</td><td>&hellip;</td><td>&hellip;</td><td>&hellip;</td><td>&hellip;</td><td>&hellip;</td><td>&hellip;</td><td>&hellip;</td><td>&hellip;</td><td>&hellip;</td><td>&hellip;</td></tr><tr><td>650</td><td>&quot;Chespin&quot;</td><td>&quot;Grass&quot;</td><td>null</td><td>56</td><td>61</td><td>65</td><td>48</td><td>45</td><td>38</td><td>6</td><td>false</td></tr><tr><td>651</td><td>&quot;Quilladin&quot;</td><td>&quot;Grass&quot;</td><td>null</td><td>61</td><td>78</td><td>95</td><td>56</td><td>58</td><td>57</td><td>6</td><td>false</td></tr><tr><td>652</td><td>&quot;Chesnaught&quot;</td><td>&quot;Grass&quot;</td><td>&quot;Fighting&quot;</td><td>88</td><td>107</td><td>122</td><td>74</td><td>75</td><td>64</td><td>6</td><td>false</td></tr><tr><td>672</td><td>&quot;Skiddo&quot;</td><td>&quot;Grass&quot;</td><td>null</td><td>66</td><td>65</td><td>48</td><td>62</td><td>57</td><td>52</td><td>6</td><td>false</td></tr><tr><td>673</td><td>&quot;Gogoat&quot;</td><td>&quot;Grass&quot;</td><td>null</td><td>123</td><td>100</td><td>62</td><td>97</td><td>81</td><td>68</td><td>6</td><td>false</td></tr></tbody></table></div>"
      ],
      "text/plain": [
       "shape: (70, 12)\n",
       "┌─────┬───────────────────────┬────────┬──────────┬───┬─────────┬───────┬────────────┬───────────┐\n",
       "│ #   ┆ Name                  ┆ Type 1 ┆ Type 2   ┆ … ┆ Sp. Def ┆ Speed ┆ Generation ┆ Legendary │\n",
       "│ --- ┆ ---                   ┆ ---    ┆ ---      ┆   ┆ ---     ┆ ---   ┆ ---        ┆ ---       │\n",
       "│ i64 ┆ str                   ┆ str    ┆ str      ┆   ┆ i64     ┆ i64   ┆ i64        ┆ bool      │\n",
       "╞═════╪═══════════════════════╪════════╪══════════╪═══╪═════════╪═══════╪════════════╪═══════════╡\n",
       "│ 1   ┆ Bulbasaur             ┆ Grass  ┆ Poison   ┆ … ┆ 65      ┆ 45    ┆ 1          ┆ false     │\n",
       "│ 2   ┆ Ivysaur               ┆ Grass  ┆ Poison   ┆ … ┆ 80      ┆ 60    ┆ 1          ┆ false     │\n",
       "│ 3   ┆ Venusaur              ┆ Grass  ┆ Poison   ┆ … ┆ 100     ┆ 80    ┆ 1          ┆ false     │\n",
       "│ 3   ┆ VenusaurMega Venusaur ┆ Grass  ┆ Poison   ┆ … ┆ 120     ┆ 80    ┆ 1          ┆ false     │\n",
       "│ 43  ┆ Oddish                ┆ Grass  ┆ Poison   ┆ … ┆ 65      ┆ 30    ┆ 1          ┆ false     │\n",
       "│ …   ┆ …                     ┆ …      ┆ …        ┆ … ┆ …       ┆ …     ┆ …          ┆ …         │\n",
       "│ 650 ┆ Chespin               ┆ Grass  ┆ null     ┆ … ┆ 45      ┆ 38    ┆ 6          ┆ false     │\n",
       "│ 651 ┆ Quilladin             ┆ Grass  ┆ null     ┆ … ┆ 58      ┆ 57    ┆ 6          ┆ false     │\n",
       "│ 652 ┆ Chesnaught            ┆ Grass  ┆ Fighting ┆ … ┆ 75      ┆ 64    ┆ 6          ┆ false     │\n",
       "│ 672 ┆ Skiddo                ┆ Grass  ┆ null     ┆ … ┆ 57      ┆ 52    ┆ 6          ┆ false     │\n",
       "│ 673 ┆ Gogoat                ┆ Grass  ┆ null     ┆ … ┆ 81      ┆ 68    ┆ 6          ┆ false     │\n",
       "└─────┴───────────────────────┴────────┴──────────┴───┴─────────┴───────┴────────────┴───────────┘"
      ]
     },
     "execution_count": 7,
     "metadata": {},
     "output_type": "execute_result"
    }
   ],
   "source": [
    "# Show rows were Type 1 is Fire\n",
    "df.filter(pl.col('Type 1') == 'Grass')"
   ]
  },
  {
   "cell_type": "markdown",
   "metadata": {},
   "source": [
    "### Sorting / Describing Data"
   ]
  },
  {
   "cell_type": "code",
   "execution_count": 8,
   "metadata": {},
   "outputs": [
    {
     "data": {
      "text/html": [
       "<div><style>\n",
       ".dataframe > thead > tr > th,\n",
       ".dataframe > tbody > tr > td {\n",
       "  text-align: right;\n",
       "  white-space: pre-wrap;\n",
       "}\n",
       "</style>\n",
       "<small>shape: (9, 13)</small><table border=\"1\" class=\"dataframe\"><thead><tr><th>describe</th><th>#</th><th>Name</th><th>Type 1</th><th>Type 2</th><th>HP</th><th>Attack</th><th>Defense</th><th>Sp. Atk</th><th>Sp. Def</th><th>Speed</th><th>Generation</th><th>Legendary</th></tr><tr><td>str</td><td>f64</td><td>str</td><td>str</td><td>str</td><td>f64</td><td>f64</td><td>f64</td><td>f64</td><td>f64</td><td>f64</td><td>f64</td><td>f64</td></tr></thead><tbody><tr><td>&quot;count&quot;</td><td>800.0</td><td>&quot;800&quot;</td><td>&quot;800&quot;</td><td>&quot;800&quot;</td><td>800.0</td><td>800.0</td><td>800.0</td><td>800.0</td><td>800.0</td><td>800.0</td><td>800.0</td><td>800.0</td></tr><tr><td>&quot;null_count&quot;</td><td>0.0</td><td>&quot;0&quot;</td><td>&quot;0&quot;</td><td>&quot;386&quot;</td><td>0.0</td><td>0.0</td><td>0.0</td><td>0.0</td><td>0.0</td><td>0.0</td><td>0.0</td><td>0.0</td></tr><tr><td>&quot;mean&quot;</td><td>362.81375</td><td>null</td><td>null</td><td>null</td><td>69.25875</td><td>79.00125</td><td>73.8425</td><td>72.82</td><td>71.9025</td><td>68.2775</td><td>3.32375</td><td>0.08125</td></tr><tr><td>&quot;std&quot;</td><td>208.343798</td><td>null</td><td>null</td><td>null</td><td>25.534669</td><td>32.457366</td><td>31.183501</td><td>32.722294</td><td>27.828916</td><td>29.060474</td><td>1.66129</td><td>0.27339</td></tr><tr><td>&quot;min&quot;</td><td>1.0</td><td>&quot;Abomasnow&quot;</td><td>&quot;Bug&quot;</td><td>&quot;Bug&quot;</td><td>1.0</td><td>5.0</td><td>5.0</td><td>10.0</td><td>20.0</td><td>5.0</td><td>1.0</td><td>0.0</td></tr><tr><td>&quot;25%&quot;</td><td>185.0</td><td>null</td><td>null</td><td>null</td><td>50.0</td><td>55.0</td><td>50.0</td><td>50.0</td><td>50.0</td><td>45.0</td><td>2.0</td><td>null</td></tr><tr><td>&quot;50%&quot;</td><td>365.0</td><td>null</td><td>null</td><td>null</td><td>65.0</td><td>75.0</td><td>70.0</td><td>65.0</td><td>70.0</td><td>65.0</td><td>3.0</td><td>null</td></tr><tr><td>&quot;75%&quot;</td><td>540.0</td><td>null</td><td>null</td><td>null</td><td>80.0</td><td>100.0</td><td>90.0</td><td>95.0</td><td>90.0</td><td>90.0</td><td>5.0</td><td>null</td></tr><tr><td>&quot;max&quot;</td><td>721.0</td><td>&quot;Zygarde50% Forme&quot;</td><td>&quot;Water&quot;</td><td>&quot;Water&quot;</td><td>255.0</td><td>190.0</td><td>230.0</td><td>194.0</td><td>230.0</td><td>180.0</td><td>6.0</td><td>1.0</td></tr></tbody></table></div>"
      ],
      "text/plain": [
       "shape: (9, 13)\n",
       "┌────────────┬────────────┬───────────┬────────┬───┬───────────┬───────────┬───────────┬───────────┐\n",
       "│ describe   ┆ #          ┆ Name      ┆ Type 1 ┆ … ┆ Sp. Def   ┆ Speed     ┆ Generatio ┆ Legendary │\n",
       "│ ---        ┆ ---        ┆ ---       ┆ ---    ┆   ┆ ---       ┆ ---       ┆ n         ┆ ---       │\n",
       "│ str        ┆ f64        ┆ str       ┆ str    ┆   ┆ f64       ┆ f64       ┆ ---       ┆ f64       │\n",
       "│            ┆            ┆           ┆        ┆   ┆           ┆           ┆ f64       ┆           │\n",
       "╞════════════╪════════════╪═══════════╪════════╪═══╪═══════════╪═══════════╪═══════════╪═══════════╡\n",
       "│ count      ┆ 800.0      ┆ 800       ┆ 800    ┆ … ┆ 800.0     ┆ 800.0     ┆ 800.0     ┆ 800.0     │\n",
       "│ null_count ┆ 0.0        ┆ 0         ┆ 0      ┆ … ┆ 0.0       ┆ 0.0       ┆ 0.0       ┆ 0.0       │\n",
       "│ mean       ┆ 362.81375  ┆ null      ┆ null   ┆ … ┆ 71.9025   ┆ 68.2775   ┆ 3.32375   ┆ 0.08125   │\n",
       "│ std        ┆ 208.343798 ┆ null      ┆ null   ┆ … ┆ 27.828916 ┆ 29.060474 ┆ 1.66129   ┆ 0.27339   │\n",
       "│ min        ┆ 1.0        ┆ Abomasnow ┆ Bug    ┆ … ┆ 20.0      ┆ 5.0       ┆ 1.0       ┆ 0.0       │\n",
       "│ 25%        ┆ 185.0      ┆ null      ┆ null   ┆ … ┆ 50.0      ┆ 45.0      ┆ 2.0       ┆ null      │\n",
       "│ 50%        ┆ 365.0      ┆ null      ┆ null   ┆ … ┆ 70.0      ┆ 65.0      ┆ 3.0       ┆ null      │\n",
       "│ 75%        ┆ 540.0      ┆ null      ┆ null   ┆ … ┆ 90.0      ┆ 90.0      ┆ 5.0       ┆ null      │\n",
       "│ max        ┆ 721.0      ┆ Zygarde50 ┆ Water  ┆ … ┆ 230.0     ┆ 180.0     ┆ 6.0       ┆ 1.0       │\n",
       "│            ┆            ┆ % Forme   ┆        ┆   ┆           ┆           ┆           ┆           │\n",
       "└────────────┴────────────┴───────────┴────────┴───┴───────────┴───────────┴───────────┴───────────┘"
      ]
     },
     "execution_count": 8,
     "metadata": {},
     "output_type": "execute_result"
    }
   ],
   "source": [
    "# Show summary statistics\n",
    "df.describe()"
   ]
  },
  {
   "cell_type": "code",
   "execution_count": 9,
   "metadata": {},
   "outputs": [
    {
     "data": {
      "text/html": [
       "<div><style>\n",
       ".dataframe > thead > tr > th,\n",
       ".dataframe > tbody > tr > td {\n",
       "  text-align: right;\n",
       "  white-space: pre-wrap;\n",
       "}\n",
       "</style>\n",
       "<small>shape: (800, 12)</small><table border=\"1\" class=\"dataframe\"><thead><tr><th>#</th><th>Name</th><th>Type 1</th><th>Type 2</th><th>HP</th><th>Attack</th><th>Defense</th><th>Sp. Atk</th><th>Sp. Def</th><th>Speed</th><th>Generation</th><th>Legendary</th></tr><tr><td>i64</td><td>str</td><td>str</td><td>str</td><td>i64</td><td>i64</td><td>i64</td><td>i64</td><td>i64</td><td>i64</td><td>i64</td><td>bool</td></tr></thead><tbody><tr><td>460</td><td>&quot;Abomasnow&quot;</td><td>&quot;Grass&quot;</td><td>&quot;Ice&quot;</td><td>90</td><td>92</td><td>75</td><td>92</td><td>85</td><td>60</td><td>4</td><td>false</td></tr><tr><td>460</td><td>&quot;AbomasnowMega Abomasnow&quot;</td><td>&quot;Grass&quot;</td><td>&quot;Ice&quot;</td><td>90</td><td>132</td><td>105</td><td>132</td><td>105</td><td>30</td><td>4</td><td>false</td></tr><tr><td>63</td><td>&quot;Abra&quot;</td><td>&quot;Psychic&quot;</td><td>null</td><td>25</td><td>20</td><td>15</td><td>105</td><td>55</td><td>90</td><td>1</td><td>false</td></tr><tr><td>359</td><td>&quot;Absol&quot;</td><td>&quot;Dark&quot;</td><td>null</td><td>65</td><td>130</td><td>60</td><td>75</td><td>60</td><td>75</td><td>3</td><td>false</td></tr><tr><td>359</td><td>&quot;AbsolMega Absol&quot;</td><td>&quot;Dark&quot;</td><td>null</td><td>65</td><td>150</td><td>60</td><td>115</td><td>60</td><td>115</td><td>3</td><td>false</td></tr><tr><td>&hellip;</td><td>&hellip;</td><td>&hellip;</td><td>&hellip;</td><td>&hellip;</td><td>&hellip;</td><td>&hellip;</td><td>&hellip;</td><td>&hellip;</td><td>&hellip;</td><td>&hellip;</td><td>&hellip;</td></tr><tr><td>571</td><td>&quot;Zoroark&quot;</td><td>&quot;Dark&quot;</td><td>null</td><td>60</td><td>105</td><td>60</td><td>120</td><td>60</td><td>105</td><td>5</td><td>false</td></tr><tr><td>570</td><td>&quot;Zorua&quot;</td><td>&quot;Dark&quot;</td><td>null</td><td>40</td><td>65</td><td>40</td><td>80</td><td>40</td><td>65</td><td>5</td><td>false</td></tr><tr><td>41</td><td>&quot;Zubat&quot;</td><td>&quot;Poison&quot;</td><td>&quot;Flying&quot;</td><td>40</td><td>45</td><td>35</td><td>30</td><td>40</td><td>55</td><td>1</td><td>false</td></tr><tr><td>634</td><td>&quot;Zweilous&quot;</td><td>&quot;Dark&quot;</td><td>&quot;Dragon&quot;</td><td>72</td><td>85</td><td>70</td><td>65</td><td>70</td><td>58</td><td>5</td><td>false</td></tr><tr><td>718</td><td>&quot;Zygarde50% Forme&quot;</td><td>&quot;Dragon&quot;</td><td>&quot;Ground&quot;</td><td>108</td><td>100</td><td>121</td><td>81</td><td>95</td><td>95</td><td>6</td><td>true</td></tr></tbody></table></div>"
      ],
      "text/plain": [
       "shape: (800, 12)\n",
       "┌─────┬─────────────────────────┬─────────┬────────┬───┬─────────┬───────┬────────────┬───────────┐\n",
       "│ #   ┆ Name                    ┆ Type 1  ┆ Type 2 ┆ … ┆ Sp. Def ┆ Speed ┆ Generation ┆ Legendary │\n",
       "│ --- ┆ ---                     ┆ ---     ┆ ---    ┆   ┆ ---     ┆ ---   ┆ ---        ┆ ---       │\n",
       "│ i64 ┆ str                     ┆ str     ┆ str    ┆   ┆ i64     ┆ i64   ┆ i64        ┆ bool      │\n",
       "╞═════╪═════════════════════════╪═════════╪════════╪═══╪═════════╪═══════╪════════════╪═══════════╡\n",
       "│ 460 ┆ Abomasnow               ┆ Grass   ┆ Ice    ┆ … ┆ 85      ┆ 60    ┆ 4          ┆ false     │\n",
       "│ 460 ┆ AbomasnowMega Abomasnow ┆ Grass   ┆ Ice    ┆ … ┆ 105     ┆ 30    ┆ 4          ┆ false     │\n",
       "│ 63  ┆ Abra                    ┆ Psychic ┆ null   ┆ … ┆ 55      ┆ 90    ┆ 1          ┆ false     │\n",
       "│ 359 ┆ Absol                   ┆ Dark    ┆ null   ┆ … ┆ 60      ┆ 75    ┆ 3          ┆ false     │\n",
       "│ 359 ┆ AbsolMega Absol         ┆ Dark    ┆ null   ┆ … ┆ 60      ┆ 115   ┆ 3          ┆ false     │\n",
       "│ …   ┆ …                       ┆ …       ┆ …      ┆ … ┆ …       ┆ …     ┆ …          ┆ …         │\n",
       "│ 571 ┆ Zoroark                 ┆ Dark    ┆ null   ┆ … ┆ 60      ┆ 105   ┆ 5          ┆ false     │\n",
       "│ 570 ┆ Zorua                   ┆ Dark    ┆ null   ┆ … ┆ 40      ┆ 65    ┆ 5          ┆ false     │\n",
       "│ 41  ┆ Zubat                   ┆ Poison  ┆ Flying ┆ … ┆ 40      ┆ 55    ┆ 1          ┆ false     │\n",
       "│ 634 ┆ Zweilous                ┆ Dark    ┆ Dragon ┆ … ┆ 70      ┆ 58    ┆ 5          ┆ false     │\n",
       "│ 718 ┆ Zygarde50% Forme        ┆ Dragon  ┆ Ground ┆ … ┆ 95      ┆ 95    ┆ 6          ┆ true      │\n",
       "└─────┴─────────────────────────┴─────────┴────────┴───┴─────────┴───────┴────────────┴───────────┘"
      ]
     },
     "execution_count": 9,
     "metadata": {},
     "output_type": "execute_result"
    }
   ],
   "source": [
    "# Sort by Name\n",
    "df.sort('Name')"
   ]
  },
  {
   "cell_type": "code",
   "execution_count": 10,
   "metadata": {},
   "outputs": [
    {
     "data": {
      "text/html": [
       "<div><style>\n",
       ".dataframe > thead > tr > th,\n",
       ".dataframe > tbody > tr > td {\n",
       "  text-align: right;\n",
       "  white-space: pre-wrap;\n",
       "}\n",
       "</style>\n",
       "<small>shape: (800, 12)</small><table border=\"1\" class=\"dataframe\"><thead><tr><th>#</th><th>Name</th><th>Type 1</th><th>Type 2</th><th>HP</th><th>Attack</th><th>Defense</th><th>Sp. Atk</th><th>Sp. Def</th><th>Speed</th><th>Generation</th><th>Legendary</th></tr><tr><td>i64</td><td>str</td><td>str</td><td>str</td><td>i64</td><td>i64</td><td>i64</td><td>i64</td><td>i64</td><td>i64</td><td>i64</td><td>bool</td></tr></thead><tbody><tr><td>292</td><td>&quot;Shedinja&quot;</td><td>&quot;Bug&quot;</td><td>&quot;Ghost&quot;</td><td>1</td><td>90</td><td>45</td><td>30</td><td>30</td><td>40</td><td>3</td><td>false</td></tr><tr><td>213</td><td>&quot;Shuckle&quot;</td><td>&quot;Bug&quot;</td><td>&quot;Rock&quot;</td><td>20</td><td>10</td><td>230</td><td>10</td><td>230</td><td>5</td><td>2</td><td>false</td></tr><tr><td>415</td><td>&quot;Combee&quot;</td><td>&quot;Bug&quot;</td><td>&quot;Flying&quot;</td><td>30</td><td>30</td><td>42</td><td>30</td><td>42</td><td>70</td><td>4</td><td>false</td></tr><tr><td>543</td><td>&quot;Venipede&quot;</td><td>&quot;Bug&quot;</td><td>&quot;Poison&quot;</td><td>30</td><td>45</td><td>59</td><td>30</td><td>39</td><td>57</td><td>5</td><td>false</td></tr><tr><td>290</td><td>&quot;Nincada&quot;</td><td>&quot;Bug&quot;</td><td>&quot;Ground&quot;</td><td>31</td><td>45</td><td>90</td><td>30</td><td>30</td><td>40</td><td>3</td><td>false</td></tr><tr><td>&hellip;</td><td>&hellip;</td><td>&hellip;</td><td>&hellip;</td><td>&hellip;</td><td>&hellip;</td><td>&hellip;</td><td>&hellip;</td><td>&hellip;</td><td>&hellip;</td><td>&hellip;</td><td>&hellip;</td></tr><tr><td>131</td><td>&quot;Lapras&quot;</td><td>&quot;Water&quot;</td><td>&quot;Ice&quot;</td><td>130</td><td>85</td><td>80</td><td>85</td><td>95</td><td>60</td><td>1</td><td>false</td></tr><tr><td>134</td><td>&quot;Vaporeon&quot;</td><td>&quot;Water&quot;</td><td>null</td><td>130</td><td>65</td><td>60</td><td>110</td><td>95</td><td>65</td><td>1</td><td>false</td></tr><tr><td>320</td><td>&quot;Wailmer&quot;</td><td>&quot;Water&quot;</td><td>null</td><td>130</td><td>70</td><td>35</td><td>70</td><td>35</td><td>60</td><td>3</td><td>false</td></tr><tr><td>594</td><td>&quot;Alomomola&quot;</td><td>&quot;Water&quot;</td><td>null</td><td>165</td><td>75</td><td>80</td><td>40</td><td>45</td><td>65</td><td>5</td><td>false</td></tr><tr><td>321</td><td>&quot;Wailord&quot;</td><td>&quot;Water&quot;</td><td>null</td><td>170</td><td>90</td><td>45</td><td>90</td><td>45</td><td>60</td><td>3</td><td>false</td></tr></tbody></table></div>"
      ],
      "text/plain": [
       "shape: (800, 12)\n",
       "┌─────┬───────────┬────────┬────────┬───┬─────────┬───────┬────────────┬───────────┐\n",
       "│ #   ┆ Name      ┆ Type 1 ┆ Type 2 ┆ … ┆ Sp. Def ┆ Speed ┆ Generation ┆ Legendary │\n",
       "│ --- ┆ ---       ┆ ---    ┆ ---    ┆   ┆ ---     ┆ ---   ┆ ---        ┆ ---       │\n",
       "│ i64 ┆ str       ┆ str    ┆ str    ┆   ┆ i64     ┆ i64   ┆ i64        ┆ bool      │\n",
       "╞═════╪═══════════╪════════╪════════╪═══╪═════════╪═══════╪════════════╪═══════════╡\n",
       "│ 292 ┆ Shedinja  ┆ Bug    ┆ Ghost  ┆ … ┆ 30      ┆ 40    ┆ 3          ┆ false     │\n",
       "│ 213 ┆ Shuckle   ┆ Bug    ┆ Rock   ┆ … ┆ 230     ┆ 5     ┆ 2          ┆ false     │\n",
       "│ 415 ┆ Combee    ┆ Bug    ┆ Flying ┆ … ┆ 42      ┆ 70    ┆ 4          ┆ false     │\n",
       "│ 543 ┆ Venipede  ┆ Bug    ┆ Poison ┆ … ┆ 39      ┆ 57    ┆ 5          ┆ false     │\n",
       "│ 290 ┆ Nincada   ┆ Bug    ┆ Ground ┆ … ┆ 30      ┆ 40    ┆ 3          ┆ false     │\n",
       "│ …   ┆ …         ┆ …      ┆ …      ┆ … ┆ …       ┆ …     ┆ …          ┆ …         │\n",
       "│ 131 ┆ Lapras    ┆ Water  ┆ Ice    ┆ … ┆ 95      ┆ 60    ┆ 1          ┆ false     │\n",
       "│ 134 ┆ Vaporeon  ┆ Water  ┆ null   ┆ … ┆ 95      ┆ 65    ┆ 1          ┆ false     │\n",
       "│ 320 ┆ Wailmer   ┆ Water  ┆ null   ┆ … ┆ 35      ┆ 60    ┆ 3          ┆ false     │\n",
       "│ 594 ┆ Alomomola ┆ Water  ┆ null   ┆ … ┆ 45      ┆ 65    ┆ 5          ┆ false     │\n",
       "│ 321 ┆ Wailord   ┆ Water  ┆ null   ┆ … ┆ 45      ┆ 60    ┆ 3          ┆ false     │\n",
       "└─────┴───────────┴────────┴────────┴───┴─────────┴───────┴────────────┴───────────┘"
      ]
     },
     "execution_count": 10,
     "metadata": {},
     "output_type": "execute_result"
    }
   ],
   "source": [
    "# Sort by Type 1 and then by HP\n",
    "df.sort(['Type 1', 'HP'])"
   ]
  },
  {
   "cell_type": "code",
   "execution_count": 14,
   "metadata": {},
   "outputs": [
    {
     "data": {
      "text/html": [
       "<div><style>\n",
       ".dataframe > thead > tr > th,\n",
       ".dataframe > tbody > tr > td {\n",
       "  text-align: right;\n",
       "  white-space: pre-wrap;\n",
       "}\n",
       "</style>\n",
       "<small>shape: (800, 12)</small><table border=\"1\" class=\"dataframe\"><thead><tr><th>#</th><th>Name</th><th>Type 1</th><th>Type 2</th><th>HP</th><th>Attack</th><th>Defense</th><th>Sp. Atk</th><th>Sp. Def</th><th>Speed</th><th>Generation</th><th>Legendary</th></tr><tr><td>i64</td><td>str</td><td>str</td><td>str</td><td>i64</td><td>i64</td><td>i64</td><td>i64</td><td>i64</td><td>i64</td><td>i64</td><td>bool</td></tr></thead><tbody><tr><td>469</td><td>&quot;Yanmega&quot;</td><td>&quot;Bug&quot;</td><td>&quot;Flying&quot;</td><td>86</td><td>76</td><td>86</td><td>116</td><td>56</td><td>95</td><td>4</td><td>false</td></tr><tr><td>637</td><td>&quot;Volcarona&quot;</td><td>&quot;Bug&quot;</td><td>&quot;Fire&quot;</td><td>85</td><td>60</td><td>65</td><td>135</td><td>105</td><td>100</td><td>5</td><td>false</td></tr><tr><td>214</td><td>&quot;Heracross&quot;</td><td>&quot;Bug&quot;</td><td>&quot;Fighting&quot;</td><td>80</td><td>125</td><td>75</td><td>40</td><td>95</td><td>85</td><td>2</td><td>false</td></tr><tr><td>214</td><td>&quot;HeracrossMega Heracross&quot;</td><td>&quot;Bug&quot;</td><td>&quot;Fighting&quot;</td><td>80</td><td>185</td><td>115</td><td>40</td><td>105</td><td>75</td><td>2</td><td>false</td></tr><tr><td>617</td><td>&quot;Accelgor&quot;</td><td>&quot;Bug&quot;</td><td>null</td><td>80</td><td>70</td><td>40</td><td>100</td><td>60</td><td>145</td><td>5</td><td>false</td></tr><tr><td>&hellip;</td><td>&hellip;</td><td>&hellip;</td><td>&hellip;</td><td>&hellip;</td><td>&hellip;</td><td>&hellip;</td><td>&hellip;</td><td>&hellip;</td><td>&hellip;</td><td>&hellip;</td><td>&hellip;</td></tr><tr><td>98</td><td>&quot;Krabby&quot;</td><td>&quot;Water&quot;</td><td>null</td><td>30</td><td>105</td><td>90</td><td>25</td><td>25</td><td>50</td><td>1</td><td>false</td></tr><tr><td>116</td><td>&quot;Horsea&quot;</td><td>&quot;Water&quot;</td><td>null</td><td>30</td><td>40</td><td>70</td><td>70</td><td>25</td><td>60</td><td>1</td><td>false</td></tr><tr><td>120</td><td>&quot;Staryu&quot;</td><td>&quot;Water&quot;</td><td>null</td><td>30</td><td>45</td><td>55</td><td>70</td><td>55</td><td>85</td><td>1</td><td>false</td></tr><tr><td>129</td><td>&quot;Magikarp&quot;</td><td>&quot;Water&quot;</td><td>null</td><td>20</td><td>10</td><td>55</td><td>15</td><td>20</td><td>80</td><td>1</td><td>false</td></tr><tr><td>349</td><td>&quot;Feebas&quot;</td><td>&quot;Water&quot;</td><td>null</td><td>20</td><td>15</td><td>20</td><td>10</td><td>55</td><td>80</td><td>3</td><td>false</td></tr></tbody></table></div>"
      ],
      "text/plain": [
       "shape: (800, 12)\n",
       "┌─────┬─────────────────────────┬────────┬──────────┬───┬─────────┬───────┬────────────┬───────────┐\n",
       "│ #   ┆ Name                    ┆ Type 1 ┆ Type 2   ┆ … ┆ Sp. Def ┆ Speed ┆ Generation ┆ Legendary │\n",
       "│ --- ┆ ---                     ┆ ---    ┆ ---      ┆   ┆ ---     ┆ ---   ┆ ---        ┆ ---       │\n",
       "│ i64 ┆ str                     ┆ str    ┆ str      ┆   ┆ i64     ┆ i64   ┆ i64        ┆ bool      │\n",
       "╞═════╪═════════════════════════╪════════╪══════════╪═══╪═════════╪═══════╪════════════╪═══════════╡\n",
       "│ 469 ┆ Yanmega                 ┆ Bug    ┆ Flying   ┆ … ┆ 56      ┆ 95    ┆ 4          ┆ false     │\n",
       "│ 637 ┆ Volcarona               ┆ Bug    ┆ Fire     ┆ … ┆ 105     ┆ 100   ┆ 5          ┆ false     │\n",
       "│ 214 ┆ Heracross               ┆ Bug    ┆ Fighting ┆ … ┆ 95      ┆ 85    ┆ 2          ┆ false     │\n",
       "│ 214 ┆ HeracrossMega Heracross ┆ Bug    ┆ Fighting ┆ … ┆ 105     ┆ 75    ┆ 2          ┆ false     │\n",
       "│ 617 ┆ Accelgor                ┆ Bug    ┆ null     ┆ … ┆ 60      ┆ 145   ┆ 5          ┆ false     │\n",
       "│ …   ┆ …                       ┆ …      ┆ …        ┆ … ┆ …       ┆ …     ┆ …          ┆ …         │\n",
       "│ 98  ┆ Krabby                  ┆ Water  ┆ null     ┆ … ┆ 25      ┆ 50    ┆ 1          ┆ false     │\n",
       "│ 116 ┆ Horsea                  ┆ Water  ┆ null     ┆ … ┆ 25      ┆ 60    ┆ 1          ┆ false     │\n",
       "│ 120 ┆ Staryu                  ┆ Water  ┆ null     ┆ … ┆ 55      ┆ 85    ┆ 1          ┆ false     │\n",
       "│ 129 ┆ Magikarp                ┆ Water  ┆ null     ┆ … ┆ 20      ┆ 80    ┆ 1          ┆ false     │\n",
       "│ 349 ┆ Feebas                  ┆ Water  ┆ null     ┆ … ┆ 55      ┆ 80    ┆ 3          ┆ false     │\n",
       "└─────┴─────────────────────────┴────────┴──────────┴───┴─────────┴───────┴────────────┴───────────┘"
      ]
     },
     "execution_count": 14,
     "metadata": {},
     "output_type": "execute_result"
    }
   ],
   "source": [
    "# Different sort arrangements\n",
    "df.sort(['Type 1', 'HP'], descending=[False, True])"
   ]
  },
  {
   "cell_type": "code",
   "execution_count": 15,
   "metadata": {},
   "outputs": [
    {
     "data": {
      "text/html": [
       "<div><style>\n",
       ".dataframe > thead > tr > th,\n",
       ".dataframe > tbody > tr > td {\n",
       "  text-align: right;\n",
       "  white-space: pre-wrap;\n",
       "}\n",
       "</style>\n",
       "<small>shape: (800, 13)</small><table border=\"1\" class=\"dataframe\"><thead><tr><th>#</th><th>Name</th><th>Type 1</th><th>Type 2</th><th>HP</th><th>Attack</th><th>Defense</th><th>Sp. Atk</th><th>Sp. Def</th><th>Speed</th><th>Generation</th><th>Legendary</th><th>Total</th></tr><tr><td>i64</td><td>str</td><td>str</td><td>str</td><td>i64</td><td>i64</td><td>i64</td><td>i64</td><td>i64</td><td>i64</td><td>i64</td><td>bool</td><td>i64</td></tr></thead><tbody><tr><td>1</td><td>&quot;Bulbasaur&quot;</td><td>&quot;Grass&quot;</td><td>&quot;Poison&quot;</td><td>45</td><td>49</td><td>49</td><td>65</td><td>65</td><td>45</td><td>1</td><td>false</td><td>318</td></tr><tr><td>2</td><td>&quot;Ivysaur&quot;</td><td>&quot;Grass&quot;</td><td>&quot;Poison&quot;</td><td>60</td><td>62</td><td>63</td><td>80</td><td>80</td><td>60</td><td>1</td><td>false</td><td>405</td></tr><tr><td>3</td><td>&quot;Venusaur&quot;</td><td>&quot;Grass&quot;</td><td>&quot;Poison&quot;</td><td>80</td><td>82</td><td>83</td><td>100</td><td>100</td><td>80</td><td>1</td><td>false</td><td>525</td></tr><tr><td>3</td><td>&quot;VenusaurMega Venusaur&quot;</td><td>&quot;Grass&quot;</td><td>&quot;Poison&quot;</td><td>80</td><td>100</td><td>123</td><td>122</td><td>120</td><td>80</td><td>1</td><td>false</td><td>625</td></tr><tr><td>4</td><td>&quot;Charmander&quot;</td><td>&quot;Fire&quot;</td><td>null</td><td>39</td><td>52</td><td>43</td><td>60</td><td>50</td><td>65</td><td>1</td><td>false</td><td>309</td></tr><tr><td>&hellip;</td><td>&hellip;</td><td>&hellip;</td><td>&hellip;</td><td>&hellip;</td><td>&hellip;</td><td>&hellip;</td><td>&hellip;</td><td>&hellip;</td><td>&hellip;</td><td>&hellip;</td><td>&hellip;</td><td>&hellip;</td></tr><tr><td>719</td><td>&quot;Diancie&quot;</td><td>&quot;Rock&quot;</td><td>&quot;Fairy&quot;</td><td>50</td><td>100</td><td>150</td><td>100</td><td>150</td><td>50</td><td>6</td><td>true</td><td>600</td></tr><tr><td>719</td><td>&quot;DiancieMega Diancie&quot;</td><td>&quot;Rock&quot;</td><td>&quot;Fairy&quot;</td><td>50</td><td>160</td><td>110</td><td>160</td><td>110</td><td>110</td><td>6</td><td>true</td><td>700</td></tr><tr><td>720</td><td>&quot;HoopaHoopa Confined&quot;</td><td>&quot;Psychic&quot;</td><td>&quot;Ghost&quot;</td><td>80</td><td>110</td><td>60</td><td>150</td><td>130</td><td>70</td><td>6</td><td>true</td><td>600</td></tr><tr><td>720</td><td>&quot;HoopaHoopa Unbound&quot;</td><td>&quot;Psychic&quot;</td><td>&quot;Dark&quot;</td><td>80</td><td>160</td><td>60</td><td>170</td><td>130</td><td>80</td><td>6</td><td>true</td><td>680</td></tr><tr><td>721</td><td>&quot;Volcanion&quot;</td><td>&quot;Fire&quot;</td><td>&quot;Water&quot;</td><td>80</td><td>110</td><td>120</td><td>130</td><td>90</td><td>70</td><td>6</td><td>true</td><td>600</td></tr></tbody></table></div>"
      ],
      "text/plain": [
       "shape: (800, 13)\n",
       "┌─────┬───────────────────────┬─────────┬────────┬───┬───────┬────────────┬───────────┬───────┐\n",
       "│ #   ┆ Name                  ┆ Type 1  ┆ Type 2 ┆ … ┆ Speed ┆ Generation ┆ Legendary ┆ Total │\n",
       "│ --- ┆ ---                   ┆ ---     ┆ ---    ┆   ┆ ---   ┆ ---        ┆ ---       ┆ ---   │\n",
       "│ i64 ┆ str                   ┆ str     ┆ str    ┆   ┆ i64   ┆ i64        ┆ bool      ┆ i64   │\n",
       "╞═════╪═══════════════════════╪═════════╪════════╪═══╪═══════╪════════════╪═══════════╪═══════╡\n",
       "│ 1   ┆ Bulbasaur             ┆ Grass   ┆ Poison ┆ … ┆ 45    ┆ 1          ┆ false     ┆ 318   │\n",
       "│ 2   ┆ Ivysaur               ┆ Grass   ┆ Poison ┆ … ┆ 60    ┆ 1          ┆ false     ┆ 405   │\n",
       "│ 3   ┆ Venusaur              ┆ Grass   ┆ Poison ┆ … ┆ 80    ┆ 1          ┆ false     ┆ 525   │\n",
       "│ 3   ┆ VenusaurMega Venusaur ┆ Grass   ┆ Poison ┆ … ┆ 80    ┆ 1          ┆ false     ┆ 625   │\n",
       "│ 4   ┆ Charmander            ┆ Fire    ┆ null   ┆ … ┆ 65    ┆ 1          ┆ false     ┆ 309   │\n",
       "│ …   ┆ …                     ┆ …       ┆ …      ┆ … ┆ …     ┆ …          ┆ …         ┆ …     │\n",
       "│ 719 ┆ Diancie               ┆ Rock    ┆ Fairy  ┆ … ┆ 50    ┆ 6          ┆ true      ┆ 600   │\n",
       "│ 719 ┆ DiancieMega Diancie   ┆ Rock    ┆ Fairy  ┆ … ┆ 110   ┆ 6          ┆ true      ┆ 700   │\n",
       "│ 720 ┆ HoopaHoopa Confined   ┆ Psychic ┆ Ghost  ┆ … ┆ 70    ┆ 6          ┆ true      ┆ 600   │\n",
       "│ 720 ┆ HoopaHoopa Unbound    ┆ Psychic ┆ Dark   ┆ … ┆ 80    ┆ 6          ┆ true      ┆ 680   │\n",
       "│ 721 ┆ Volcanion             ┆ Fire    ┆ Water  ┆ … ┆ 70    ┆ 6          ┆ true      ┆ 600   │\n",
       "└─────┴───────────────────────┴─────────┴────────┴───┴───────┴────────────┴───────────┴───────┘"
      ]
     },
     "execution_count": 15,
     "metadata": {},
     "output_type": "execute_result"
    }
   ],
   "source": [
    "# Create a Total column that adds various columns\n",
    "(df\n",
    " .with_columns(Total=df['HP'] + df['Attack'] + df['Defense'] + df['Sp. Atk'] + df['Sp. Def'] + df['Speed'])\n",
    " )"
   ]
  },
  {
   "cell_type": "code",
   "execution_count": 16,
   "metadata": {},
   "outputs": [
    {
     "data": {
      "text/plain": [
       "318"
      ]
     },
     "execution_count": 16,
     "metadata": {},
     "output_type": "execute_result"
    }
   ],
   "source": [
    "# Double check that the addition is correct\n",
    "45 + 49 + 49 + 65 + 65 + 45"
   ]
  },
  {
   "cell_type": "code",
   "execution_count": 22,
   "metadata": {},
   "outputs": [
    {
     "data": {
      "text/html": [
       "<div><style>\n",
       ".dataframe > thead > tr > th,\n",
       ".dataframe > tbody > tr > td {\n",
       "  text-align: right;\n",
       "  white-space: pre-wrap;\n",
       "}\n",
       "</style>\n",
       "<small>shape: (800, 13)</small><table border=\"1\" class=\"dataframe\"><thead><tr><th>#</th><th>Name</th><th>Type 1</th><th>Type 2</th><th>HP</th><th>Attack</th><th>Defense</th><th>Sp. Atk</th><th>Sp. Def</th><th>Speed</th><th>Generation</th><th>Legendary</th><th>Total</th></tr><tr><td>i64</td><td>str</td><td>str</td><td>str</td><td>i64</td><td>i64</td><td>i64</td><td>i64</td><td>i64</td><td>i64</td><td>i64</td><td>bool</td><td>i64</td></tr></thead><tbody><tr><td>1</td><td>&quot;Bulbasaur&quot;</td><td>&quot;Grass&quot;</td><td>&quot;Poison&quot;</td><td>45</td><td>49</td><td>49</td><td>65</td><td>65</td><td>45</td><td>1</td><td>false</td><td>318</td></tr><tr><td>2</td><td>&quot;Ivysaur&quot;</td><td>&quot;Grass&quot;</td><td>&quot;Poison&quot;</td><td>60</td><td>62</td><td>63</td><td>80</td><td>80</td><td>60</td><td>1</td><td>false</td><td>405</td></tr><tr><td>3</td><td>&quot;Venusaur&quot;</td><td>&quot;Grass&quot;</td><td>&quot;Poison&quot;</td><td>80</td><td>82</td><td>83</td><td>100</td><td>100</td><td>80</td><td>1</td><td>false</td><td>525</td></tr><tr><td>3</td><td>&quot;VenusaurMega Venusaur&quot;</td><td>&quot;Grass&quot;</td><td>&quot;Poison&quot;</td><td>80</td><td>100</td><td>123</td><td>122</td><td>120</td><td>80</td><td>1</td><td>false</td><td>625</td></tr><tr><td>4</td><td>&quot;Charmander&quot;</td><td>&quot;Fire&quot;</td><td>null</td><td>39</td><td>52</td><td>43</td><td>60</td><td>50</td><td>65</td><td>1</td><td>false</td><td>309</td></tr><tr><td>&hellip;</td><td>&hellip;</td><td>&hellip;</td><td>&hellip;</td><td>&hellip;</td><td>&hellip;</td><td>&hellip;</td><td>&hellip;</td><td>&hellip;</td><td>&hellip;</td><td>&hellip;</td><td>&hellip;</td><td>&hellip;</td></tr><tr><td>719</td><td>&quot;Diancie&quot;</td><td>&quot;Rock&quot;</td><td>&quot;Fairy&quot;</td><td>50</td><td>100</td><td>150</td><td>100</td><td>150</td><td>50</td><td>6</td><td>true</td><td>600</td></tr><tr><td>719</td><td>&quot;DiancieMega Diancie&quot;</td><td>&quot;Rock&quot;</td><td>&quot;Fairy&quot;</td><td>50</td><td>160</td><td>110</td><td>160</td><td>110</td><td>110</td><td>6</td><td>true</td><td>700</td></tr><tr><td>720</td><td>&quot;HoopaHoopa Confined&quot;</td><td>&quot;Psychic&quot;</td><td>&quot;Ghost&quot;</td><td>80</td><td>110</td><td>60</td><td>150</td><td>130</td><td>70</td><td>6</td><td>true</td><td>600</td></tr><tr><td>720</td><td>&quot;HoopaHoopa Unbound&quot;</td><td>&quot;Psychic&quot;</td><td>&quot;Dark&quot;</td><td>80</td><td>160</td><td>60</td><td>170</td><td>130</td><td>80</td><td>6</td><td>true</td><td>680</td></tr><tr><td>721</td><td>&quot;Volcanion&quot;</td><td>&quot;Fire&quot;</td><td>&quot;Water&quot;</td><td>80</td><td>110</td><td>120</td><td>130</td><td>90</td><td>70</td><td>6</td><td>true</td><td>600</td></tr></tbody></table></div>"
      ],
      "text/plain": [
       "shape: (800, 13)\n",
       "┌─────┬───────────────────────┬─────────┬────────┬───┬───────┬────────────┬───────────┬───────┐\n",
       "│ #   ┆ Name                  ┆ Type 1  ┆ Type 2 ┆ … ┆ Speed ┆ Generation ┆ Legendary ┆ Total │\n",
       "│ --- ┆ ---                   ┆ ---     ┆ ---    ┆   ┆ ---   ┆ ---        ┆ ---       ┆ ---   │\n",
       "│ i64 ┆ str                   ┆ str     ┆ str    ┆   ┆ i64   ┆ i64        ┆ bool      ┆ i64   │\n",
       "╞═════╪═══════════════════════╪═════════╪════════╪═══╪═══════╪════════════╪═══════════╪═══════╡\n",
       "│ 1   ┆ Bulbasaur             ┆ Grass   ┆ Poison ┆ … ┆ 45    ┆ 1          ┆ false     ┆ 318   │\n",
       "│ 2   ┆ Ivysaur               ┆ Grass   ┆ Poison ┆ … ┆ 60    ┆ 1          ┆ false     ┆ 405   │\n",
       "│ 3   ┆ Venusaur              ┆ Grass   ┆ Poison ┆ … ┆ 80    ┆ 1          ┆ false     ┆ 525   │\n",
       "│ 3   ┆ VenusaurMega Venusaur ┆ Grass   ┆ Poison ┆ … ┆ 80    ┆ 1          ┆ false     ┆ 625   │\n",
       "│ 4   ┆ Charmander            ┆ Fire    ┆ null   ┆ … ┆ 65    ┆ 1          ┆ false     ┆ 309   │\n",
       "│ …   ┆ …                     ┆ …       ┆ …      ┆ … ┆ …     ┆ …          ┆ …         ┆ …     │\n",
       "│ 719 ┆ Diancie               ┆ Rock    ┆ Fairy  ┆ … ┆ 50    ┆ 6          ┆ true      ┆ 600   │\n",
       "│ 719 ┆ DiancieMega Diancie   ┆ Rock    ┆ Fairy  ┆ … ┆ 110   ┆ 6          ┆ true      ┆ 700   │\n",
       "│ 720 ┆ HoopaHoopa Confined   ┆ Psychic ┆ Ghost  ┆ … ┆ 70    ┆ 6          ┆ true      ┆ 600   │\n",
       "│ 720 ┆ HoopaHoopa Unbound    ┆ Psychic ┆ Dark   ┆ … ┆ 80    ┆ 6          ┆ true      ┆ 680   │\n",
       "│ 721 ┆ Volcanion             ┆ Fire    ┆ Water  ┆ … ┆ 70    ┆ 6          ┆ true      ┆ 600   │\n",
       "└─────┴───────────────────────┴─────────┴────────┴───┴───────┴────────────┴───────────┴───────┘"
      ]
     },
     "execution_count": 22,
     "metadata": {},
     "output_type": "execute_result"
    }
   ],
   "source": [
    "# Anothe way to add columns (slightly more efficient)\n",
    "(df\n",
    " .with_columns(Total=df[:, 'HP':'Speed'].sum(axis=1))\n",
    " )"
   ]
  },
  {
   "cell_type": "code",
   "execution_count": 30,
   "metadata": {},
   "outputs": [
    {
     "data": {
      "text/html": [
       "<div><style>\n",
       ".dataframe > thead > tr > th,\n",
       ".dataframe > tbody > tr > td {\n",
       "  text-align: right;\n",
       "  white-space: pre-wrap;\n",
       "}\n",
       "</style>\n",
       "<small>shape: (800, 13)</small><table border=\"1\" class=\"dataframe\"><thead><tr><th>#</th><th>Name</th><th>Type 1</th><th>Type 2</th><th>HP</th><th>Attack</th><th>Defense</th><th>Sp. Atk</th><th>Sp. Def</th><th>Speed</th><th>Generation</th><th>Legendary</th><th>Total</th></tr><tr><td>i64</td><td>str</td><td>str</td><td>str</td><td>i64</td><td>i64</td><td>i64</td><td>i64</td><td>i64</td><td>i64</td><td>i64</td><td>bool</td><td>i64</td></tr></thead><tbody><tr><td>1</td><td>&quot;Bulbasaur&quot;</td><td>&quot;Grass&quot;</td><td>&quot;Poison&quot;</td><td>45</td><td>49</td><td>49</td><td>65</td><td>65</td><td>45</td><td>1</td><td>false</td><td>318</td></tr><tr><td>2</td><td>&quot;Ivysaur&quot;</td><td>&quot;Grass&quot;</td><td>&quot;Poison&quot;</td><td>60</td><td>62</td><td>63</td><td>80</td><td>80</td><td>60</td><td>1</td><td>false</td><td>405</td></tr><tr><td>3</td><td>&quot;Venusaur&quot;</td><td>&quot;Grass&quot;</td><td>&quot;Poison&quot;</td><td>80</td><td>82</td><td>83</td><td>100</td><td>100</td><td>80</td><td>1</td><td>false</td><td>525</td></tr><tr><td>3</td><td>&quot;VenusaurMega Venusaur&quot;</td><td>&quot;Grass&quot;</td><td>&quot;Poison&quot;</td><td>80</td><td>100</td><td>123</td><td>122</td><td>120</td><td>80</td><td>1</td><td>false</td><td>625</td></tr><tr><td>4</td><td>&quot;Charmander&quot;</td><td>&quot;Fire&quot;</td><td>null</td><td>39</td><td>52</td><td>43</td><td>60</td><td>50</td><td>65</td><td>1</td><td>false</td><td>309</td></tr><tr><td>&hellip;</td><td>&hellip;</td><td>&hellip;</td><td>&hellip;</td><td>&hellip;</td><td>&hellip;</td><td>&hellip;</td><td>&hellip;</td><td>&hellip;</td><td>&hellip;</td><td>&hellip;</td><td>&hellip;</td><td>&hellip;</td></tr><tr><td>719</td><td>&quot;Diancie&quot;</td><td>&quot;Rock&quot;</td><td>&quot;Fairy&quot;</td><td>50</td><td>100</td><td>150</td><td>100</td><td>150</td><td>50</td><td>6</td><td>true</td><td>600</td></tr><tr><td>719</td><td>&quot;DiancieMega Diancie&quot;</td><td>&quot;Rock&quot;</td><td>&quot;Fairy&quot;</td><td>50</td><td>160</td><td>110</td><td>160</td><td>110</td><td>110</td><td>6</td><td>true</td><td>700</td></tr><tr><td>720</td><td>&quot;HoopaHoopa Confined&quot;</td><td>&quot;Psychic&quot;</td><td>&quot;Ghost&quot;</td><td>80</td><td>110</td><td>60</td><td>150</td><td>130</td><td>70</td><td>6</td><td>true</td><td>600</td></tr><tr><td>720</td><td>&quot;HoopaHoopa Unbound&quot;</td><td>&quot;Psychic&quot;</td><td>&quot;Dark&quot;</td><td>80</td><td>160</td><td>60</td><td>170</td><td>130</td><td>80</td><td>6</td><td>true</td><td>680</td></tr><tr><td>721</td><td>&quot;Volcanion&quot;</td><td>&quot;Fire&quot;</td><td>&quot;Water&quot;</td><td>80</td><td>110</td><td>120</td><td>130</td><td>90</td><td>70</td><td>6</td><td>true</td><td>600</td></tr></tbody></table></div>"
      ],
      "text/plain": [
       "shape: (800, 13)\n",
       "┌─────┬───────────────────────┬─────────┬────────┬───┬───────┬────────────┬───────────┬───────┐\n",
       "│ #   ┆ Name                  ┆ Type 1  ┆ Type 2 ┆ … ┆ Speed ┆ Generation ┆ Legendary ┆ Total │\n",
       "│ --- ┆ ---                   ┆ ---     ┆ ---    ┆   ┆ ---   ┆ ---        ┆ ---       ┆ ---   │\n",
       "│ i64 ┆ str                   ┆ str     ┆ str    ┆   ┆ i64   ┆ i64        ┆ bool      ┆ i64   │\n",
       "╞═════╪═══════════════════════╪═════════╪════════╪═══╪═══════╪════════════╪═══════════╪═══════╡\n",
       "│ 1   ┆ Bulbasaur             ┆ Grass   ┆ Poison ┆ … ┆ 45    ┆ 1          ┆ false     ┆ 318   │\n",
       "│ 2   ┆ Ivysaur               ┆ Grass   ┆ Poison ┆ … ┆ 60    ┆ 1          ┆ false     ┆ 405   │\n",
       "│ 3   ┆ Venusaur              ┆ Grass   ┆ Poison ┆ … ┆ 80    ┆ 1          ┆ false     ┆ 525   │\n",
       "│ 3   ┆ VenusaurMega Venusaur ┆ Grass   ┆ Poison ┆ … ┆ 80    ┆ 1          ┆ false     ┆ 625   │\n",
       "│ 4   ┆ Charmander            ┆ Fire    ┆ null   ┆ … ┆ 65    ┆ 1          ┆ false     ┆ 309   │\n",
       "│ …   ┆ …                     ┆ …       ┆ …      ┆ … ┆ …     ┆ …          ┆ …         ┆ …     │\n",
       "│ 719 ┆ Diancie               ┆ Rock    ┆ Fairy  ┆ … ┆ 50    ┆ 6          ┆ true      ┆ 600   │\n",
       "│ 719 ┆ DiancieMega Diancie   ┆ Rock    ┆ Fairy  ┆ … ┆ 110   ┆ 6          ┆ true      ┆ 700   │\n",
       "│ 720 ┆ HoopaHoopa Confined   ┆ Psychic ┆ Ghost  ┆ … ┆ 70    ┆ 6          ┆ true      ┆ 600   │\n",
       "│ 720 ┆ HoopaHoopa Unbound    ┆ Psychic ┆ Dark   ┆ … ┆ 80    ┆ 6          ┆ true      ┆ 680   │\n",
       "│ 721 ┆ Volcanion             ┆ Fire    ┆ Water  ┆ … ┆ 70    ┆ 6          ┆ true      ┆ 600   │\n",
       "└─────┴───────────────────────┴─────────┴────────┴───┴───────┴────────────┴───────────┴───────┘"
      ]
     },
     "execution_count": 30,
     "metadata": {},
     "output_type": "execute_result"
    }
   ],
   "source": [
    "# Even better way to add columns\n",
    "df.with_columns(Total=pl.sum_horizontal(df[:, 'HP':'Speed']))"
   ]
  },
  {
   "cell_type": "markdown",
   "metadata": {},
   "source": [
    "### Filtering Data"
   ]
  },
  {
   "cell_type": "code",
   "execution_count": 31,
   "metadata": {},
   "outputs": [
    {
     "data": {
      "text/html": [
       "<div><style>\n",
       ".dataframe > thead > tr > th,\n",
       ".dataframe > tbody > tr > td {\n",
       "  text-align: right;\n",
       "  white-space: pre-wrap;\n",
       "}\n",
       "</style>\n",
       "<small>shape: (15, 12)</small><table border=\"1\" class=\"dataframe\"><thead><tr><th>#</th><th>Name</th><th>Type 1</th><th>Type 2</th><th>HP</th><th>Attack</th><th>Defense</th><th>Sp. Atk</th><th>Sp. Def</th><th>Speed</th><th>Generation</th><th>Legendary</th></tr><tr><td>i64</td><td>str</td><td>str</td><td>str</td><td>i64</td><td>i64</td><td>i64</td><td>i64</td><td>i64</td><td>i64</td><td>i64</td><td>bool</td></tr></thead><tbody><tr><td>1</td><td>&quot;Bulbasaur&quot;</td><td>&quot;Grass&quot;</td><td>&quot;Poison&quot;</td><td>45</td><td>49</td><td>49</td><td>65</td><td>65</td><td>45</td><td>1</td><td>false</td></tr><tr><td>2</td><td>&quot;Ivysaur&quot;</td><td>&quot;Grass&quot;</td><td>&quot;Poison&quot;</td><td>60</td><td>62</td><td>63</td><td>80</td><td>80</td><td>60</td><td>1</td><td>false</td></tr><tr><td>3</td><td>&quot;Venusaur&quot;</td><td>&quot;Grass&quot;</td><td>&quot;Poison&quot;</td><td>80</td><td>82</td><td>83</td><td>100</td><td>100</td><td>80</td><td>1</td><td>false</td></tr><tr><td>3</td><td>&quot;VenusaurMega Venusaur&quot;</td><td>&quot;Grass&quot;</td><td>&quot;Poison&quot;</td><td>80</td><td>100</td><td>123</td><td>122</td><td>120</td><td>80</td><td>1</td><td>false</td></tr><tr><td>43</td><td>&quot;Oddish&quot;</td><td>&quot;Grass&quot;</td><td>&quot;Poison&quot;</td><td>45</td><td>50</td><td>55</td><td>75</td><td>65</td><td>30</td><td>1</td><td>false</td></tr><tr><td>&hellip;</td><td>&hellip;</td><td>&hellip;</td><td>&hellip;</td><td>&hellip;</td><td>&hellip;</td><td>&hellip;</td><td>&hellip;</td><td>&hellip;</td><td>&hellip;</td><td>&hellip;</td><td>&hellip;</td></tr><tr><td>315</td><td>&quot;Roselia&quot;</td><td>&quot;Grass&quot;</td><td>&quot;Poison&quot;</td><td>50</td><td>60</td><td>45</td><td>100</td><td>80</td><td>65</td><td>3</td><td>false</td></tr><tr><td>406</td><td>&quot;Budew&quot;</td><td>&quot;Grass&quot;</td><td>&quot;Poison&quot;</td><td>40</td><td>30</td><td>35</td><td>50</td><td>70</td><td>55</td><td>4</td><td>false</td></tr><tr><td>407</td><td>&quot;Roserade&quot;</td><td>&quot;Grass&quot;</td><td>&quot;Poison&quot;</td><td>60</td><td>70</td><td>65</td><td>125</td><td>105</td><td>90</td><td>4</td><td>false</td></tr><tr><td>590</td><td>&quot;Foongus&quot;</td><td>&quot;Grass&quot;</td><td>&quot;Poison&quot;</td><td>69</td><td>55</td><td>45</td><td>55</td><td>55</td><td>15</td><td>5</td><td>false</td></tr><tr><td>591</td><td>&quot;Amoonguss&quot;</td><td>&quot;Grass&quot;</td><td>&quot;Poison&quot;</td><td>114</td><td>85</td><td>70</td><td>85</td><td>80</td><td>30</td><td>5</td><td>false</td></tr></tbody></table></div>"
      ],
      "text/plain": [
       "shape: (15, 12)\n",
       "┌─────┬───────────────────────┬────────┬────────┬───┬─────────┬───────┬────────────┬───────────┐\n",
       "│ #   ┆ Name                  ┆ Type 1 ┆ Type 2 ┆ … ┆ Sp. Def ┆ Speed ┆ Generation ┆ Legendary │\n",
       "│ --- ┆ ---                   ┆ ---    ┆ ---    ┆   ┆ ---     ┆ ---   ┆ ---        ┆ ---       │\n",
       "│ i64 ┆ str                   ┆ str    ┆ str    ┆   ┆ i64     ┆ i64   ┆ i64        ┆ bool      │\n",
       "╞═════╪═══════════════════════╪════════╪════════╪═══╪═════════╪═══════╪════════════╪═══════════╡\n",
       "│ 1   ┆ Bulbasaur             ┆ Grass  ┆ Poison ┆ … ┆ 65      ┆ 45    ┆ 1          ┆ false     │\n",
       "│ 2   ┆ Ivysaur               ┆ Grass  ┆ Poison ┆ … ┆ 80      ┆ 60    ┆ 1          ┆ false     │\n",
       "│ 3   ┆ Venusaur              ┆ Grass  ┆ Poison ┆ … ┆ 100     ┆ 80    ┆ 1          ┆ false     │\n",
       "│ 3   ┆ VenusaurMega Venusaur ┆ Grass  ┆ Poison ┆ … ┆ 120     ┆ 80    ┆ 1          ┆ false     │\n",
       "│ 43  ┆ Oddish                ┆ Grass  ┆ Poison ┆ … ┆ 65      ┆ 30    ┆ 1          ┆ false     │\n",
       "│ …   ┆ …                     ┆ …      ┆ …      ┆ … ┆ …       ┆ …     ┆ …          ┆ …         │\n",
       "│ 315 ┆ Roselia               ┆ Grass  ┆ Poison ┆ … ┆ 80      ┆ 65    ┆ 3          ┆ false     │\n",
       "│ 406 ┆ Budew                 ┆ Grass  ┆ Poison ┆ … ┆ 70      ┆ 55    ┆ 4          ┆ false     │\n",
       "│ 407 ┆ Roserade              ┆ Grass  ┆ Poison ┆ … ┆ 105     ┆ 90    ┆ 4          ┆ false     │\n",
       "│ 590 ┆ Foongus               ┆ Grass  ┆ Poison ┆ … ┆ 55      ┆ 15    ┆ 5          ┆ false     │\n",
       "│ 591 ┆ Amoonguss             ┆ Grass  ┆ Poison ┆ … ┆ 80      ┆ 30    ┆ 5          ┆ false     │\n",
       "└─────┴───────────────────────┴────────┴────────┴───┴─────────┴───────┴────────────┴───────────┘"
      ]
     },
     "execution_count": 31,
     "metadata": {},
     "output_type": "execute_result"
    }
   ],
   "source": [
    "# Filter where Type 1 is Grass and Type 2 is Poison\n",
    "(df\n",
    " .filter((pl.col('Type 1') == 'Grass') & (pl.col('Type 2') == 'Poison'))\n",
    " )"
   ]
  },
  {
   "cell_type": "code",
   "execution_count": 33,
   "metadata": {},
   "outputs": [
    {
     "data": {
      "text/html": [
       "<div><style>\n",
       ".dataframe > thead > tr > th,\n",
       ".dataframe > tbody > tr > td {\n",
       "  text-align: right;\n",
       "  white-space: pre-wrap;\n",
       "}\n",
       "</style>\n",
       "<small>shape: (89, 12)</small><table border=\"1\" class=\"dataframe\"><thead><tr><th>#</th><th>Name</th><th>Type 1</th><th>Type 2</th><th>HP</th><th>Attack</th><th>Defense</th><th>Sp. Atk</th><th>Sp. Def</th><th>Speed</th><th>Generation</th><th>Legendary</th></tr><tr><td>i64</td><td>str</td><td>str</td><td>str</td><td>i64</td><td>i64</td><td>i64</td><td>i64</td><td>i64</td><td>i64</td><td>i64</td><td>bool</td></tr></thead><tbody><tr><td>1</td><td>&quot;Bulbasaur&quot;</td><td>&quot;Grass&quot;</td><td>&quot;Poison&quot;</td><td>45</td><td>49</td><td>49</td><td>65</td><td>65</td><td>45</td><td>1</td><td>false</td></tr><tr><td>2</td><td>&quot;Ivysaur&quot;</td><td>&quot;Grass&quot;</td><td>&quot;Poison&quot;</td><td>60</td><td>62</td><td>63</td><td>80</td><td>80</td><td>60</td><td>1</td><td>false</td></tr><tr><td>3</td><td>&quot;Venusaur&quot;</td><td>&quot;Grass&quot;</td><td>&quot;Poison&quot;</td><td>80</td><td>82</td><td>83</td><td>100</td><td>100</td><td>80</td><td>1</td><td>false</td></tr><tr><td>3</td><td>&quot;VenusaurMega Venusaur&quot;</td><td>&quot;Grass&quot;</td><td>&quot;Poison&quot;</td><td>80</td><td>100</td><td>123</td><td>122</td><td>120</td><td>80</td><td>1</td><td>false</td></tr><tr><td>13</td><td>&quot;Weedle&quot;</td><td>&quot;Bug&quot;</td><td>&quot;Poison&quot;</td><td>40</td><td>35</td><td>30</td><td>20</td><td>20</td><td>50</td><td>1</td><td>false</td></tr><tr><td>&hellip;</td><td>&hellip;</td><td>&hellip;</td><td>&hellip;</td><td>&hellip;</td><td>&hellip;</td><td>&hellip;</td><td>&hellip;</td><td>&hellip;</td><td>&hellip;</td><td>&hellip;</td><td>&hellip;</td></tr><tr><td>650</td><td>&quot;Chespin&quot;</td><td>&quot;Grass&quot;</td><td>null</td><td>56</td><td>61</td><td>65</td><td>48</td><td>45</td><td>38</td><td>6</td><td>false</td></tr><tr><td>651</td><td>&quot;Quilladin&quot;</td><td>&quot;Grass&quot;</td><td>null</td><td>61</td><td>78</td><td>95</td><td>56</td><td>58</td><td>57</td><td>6</td><td>false</td></tr><tr><td>652</td><td>&quot;Chesnaught&quot;</td><td>&quot;Grass&quot;</td><td>&quot;Fighting&quot;</td><td>88</td><td>107</td><td>122</td><td>74</td><td>75</td><td>64</td><td>6</td><td>false</td></tr><tr><td>672</td><td>&quot;Skiddo&quot;</td><td>&quot;Grass&quot;</td><td>null</td><td>66</td><td>65</td><td>48</td><td>62</td><td>57</td><td>52</td><td>6</td><td>false</td></tr><tr><td>673</td><td>&quot;Gogoat&quot;</td><td>&quot;Grass&quot;</td><td>null</td><td>123</td><td>100</td><td>62</td><td>97</td><td>81</td><td>68</td><td>6</td><td>false</td></tr></tbody></table></div>"
      ],
      "text/plain": [
       "shape: (89, 12)\n",
       "┌─────┬───────────────────────┬────────┬──────────┬───┬─────────┬───────┬────────────┬───────────┐\n",
       "│ #   ┆ Name                  ┆ Type 1 ┆ Type 2   ┆ … ┆ Sp. Def ┆ Speed ┆ Generation ┆ Legendary │\n",
       "│ --- ┆ ---                   ┆ ---    ┆ ---      ┆   ┆ ---     ┆ ---   ┆ ---        ┆ ---       │\n",
       "│ i64 ┆ str                   ┆ str    ┆ str      ┆   ┆ i64     ┆ i64   ┆ i64        ┆ bool      │\n",
       "╞═════╪═══════════════════════╪════════╪══════════╪═══╪═════════╪═══════╪════════════╪═══════════╡\n",
       "│ 1   ┆ Bulbasaur             ┆ Grass  ┆ Poison   ┆ … ┆ 65      ┆ 45    ┆ 1          ┆ false     │\n",
       "│ 2   ┆ Ivysaur               ┆ Grass  ┆ Poison   ┆ … ┆ 80      ┆ 60    ┆ 1          ┆ false     │\n",
       "│ 3   ┆ Venusaur              ┆ Grass  ┆ Poison   ┆ … ┆ 100     ┆ 80    ┆ 1          ┆ false     │\n",
       "│ 3   ┆ VenusaurMega Venusaur ┆ Grass  ┆ Poison   ┆ … ┆ 120     ┆ 80    ┆ 1          ┆ false     │\n",
       "│ 13  ┆ Weedle                ┆ Bug    ┆ Poison   ┆ … ┆ 20      ┆ 50    ┆ 1          ┆ false     │\n",
       "│ …   ┆ …                     ┆ …      ┆ …        ┆ … ┆ …       ┆ …     ┆ …          ┆ …         │\n",
       "│ 650 ┆ Chespin               ┆ Grass  ┆ null     ┆ … ┆ 45      ┆ 38    ┆ 6          ┆ false     │\n",
       "│ 651 ┆ Quilladin             ┆ Grass  ┆ null     ┆ … ┆ 58      ┆ 57    ┆ 6          ┆ false     │\n",
       "│ 652 ┆ Chesnaught            ┆ Grass  ┆ Fighting ┆ … ┆ 75      ┆ 64    ┆ 6          ┆ false     │\n",
       "│ 672 ┆ Skiddo                ┆ Grass  ┆ null     ┆ … ┆ 57      ┆ 52    ┆ 6          ┆ false     │\n",
       "│ 673 ┆ Gogoat                ┆ Grass  ┆ null     ┆ … ┆ 81      ┆ 68    ┆ 6          ┆ false     │\n",
       "└─────┴───────────────────────┴────────┴──────────┴───┴─────────┴───────┴────────────┴───────────┘"
      ]
     },
     "execution_count": 33,
     "metadata": {},
     "output_type": "execute_result"
    }
   ],
   "source": [
    "# Filter where Type 1 is Grass or Type 2 is Poison\n",
    "(df\n",
    " .filter((pl.col('Type 1') == 'Grass') | (pl.col('Type 2') == 'Poison'))\n",
    " )"
   ]
  },
  {
   "cell_type": "code",
   "execution_count": 34,
   "metadata": {},
   "outputs": [
    {
     "data": {
      "text/html": [
       "<div><style>\n",
       ".dataframe > thead > tr > th,\n",
       ".dataframe > tbody > tr > td {\n",
       "  text-align: right;\n",
       "  white-space: pre-wrap;\n",
       "}\n",
       "</style>\n",
       "<small>shape: (5, 12)</small><table border=\"1\" class=\"dataframe\"><thead><tr><th>#</th><th>Name</th><th>Type 1</th><th>Type 2</th><th>HP</th><th>Attack</th><th>Defense</th><th>Sp. Atk</th><th>Sp. Def</th><th>Speed</th><th>Generation</th><th>Legendary</th></tr><tr><td>i64</td><td>str</td><td>str</td><td>str</td><td>i64</td><td>i64</td><td>i64</td><td>i64</td><td>i64</td><td>i64</td><td>i64</td><td>bool</td></tr></thead><tbody><tr><td>3</td><td>&quot;Venusaur&quot;</td><td>&quot;Grass&quot;</td><td>&quot;Poison&quot;</td><td>80</td><td>82</td><td>83</td><td>100</td><td>100</td><td>80</td><td>1</td><td>false</td></tr><tr><td>3</td><td>&quot;VenusaurMega Venusaur&quot;</td><td>&quot;Grass&quot;</td><td>&quot;Poison&quot;</td><td>80</td><td>100</td><td>123</td><td>122</td><td>120</td><td>80</td><td>1</td><td>false</td></tr><tr><td>45</td><td>&quot;Vileplume&quot;</td><td>&quot;Grass&quot;</td><td>&quot;Poison&quot;</td><td>75</td><td>80</td><td>85</td><td>110</td><td>90</td><td>50</td><td>1</td><td>false</td></tr><tr><td>71</td><td>&quot;Victreebel&quot;</td><td>&quot;Grass&quot;</td><td>&quot;Poison&quot;</td><td>80</td><td>105</td><td>65</td><td>100</td><td>70</td><td>70</td><td>1</td><td>false</td></tr><tr><td>591</td><td>&quot;Amoonguss&quot;</td><td>&quot;Grass&quot;</td><td>&quot;Poison&quot;</td><td>114</td><td>85</td><td>70</td><td>85</td><td>80</td><td>30</td><td>5</td><td>false</td></tr></tbody></table></div>"
      ],
      "text/plain": [
       "shape: (5, 12)\n",
       "┌─────┬───────────────────────┬────────┬────────┬───┬─────────┬───────┬────────────┬───────────┐\n",
       "│ #   ┆ Name                  ┆ Type 1 ┆ Type 2 ┆ … ┆ Sp. Def ┆ Speed ┆ Generation ┆ Legendary │\n",
       "│ --- ┆ ---                   ┆ ---    ┆ ---    ┆   ┆ ---     ┆ ---   ┆ ---        ┆ ---       │\n",
       "│ i64 ┆ str                   ┆ str    ┆ str    ┆   ┆ i64     ┆ i64   ┆ i64        ┆ bool      │\n",
       "╞═════╪═══════════════════════╪════════╪════════╪═══╪═════════╪═══════╪════════════╪═══════════╡\n",
       "│ 3   ┆ Venusaur              ┆ Grass  ┆ Poison ┆ … ┆ 100     ┆ 80    ┆ 1          ┆ false     │\n",
       "│ 3   ┆ VenusaurMega Venusaur ┆ Grass  ┆ Poison ┆ … ┆ 120     ┆ 80    ┆ 1          ┆ false     │\n",
       "│ 45  ┆ Vileplume             ┆ Grass  ┆ Poison ┆ … ┆ 90      ┆ 50    ┆ 1          ┆ false     │\n",
       "│ 71  ┆ Victreebel            ┆ Grass  ┆ Poison ┆ … ┆ 70      ┆ 70    ┆ 1          ┆ false     │\n",
       "│ 591 ┆ Amoonguss             ┆ Grass  ┆ Poison ┆ … ┆ 80      ┆ 30    ┆ 5          ┆ false     │\n",
       "└─────┴───────────────────────┴────────┴────────┴───┴─────────┴───────┴────────────┴───────────┘"
      ]
     },
     "execution_count": 34,
     "metadata": {},
     "output_type": "execute_result"
    }
   ],
   "source": [
    "# More than 2 conditions\n",
    "# Filter where Type 1 is Grass or Type 2 is Poison\n",
    "(df\n",
    " .filter((pl.col('Type 1') == 'Grass') & (pl.col('Type 2') == 'Poison') & (pl.col('HP') > 70))\n",
    " )"
   ]
  },
  {
   "cell_type": "code",
   "execution_count": 36,
   "metadata": {},
   "outputs": [
    {
     "data": {
      "text/html": [
       "<div><style>\n",
       ".dataframe > thead > tr > th,\n",
       ".dataframe > tbody > tr > td {\n",
       "  text-align: right;\n",
       "  white-space: pre-wrap;\n",
       "}\n",
       "</style>\n",
       "<small>shape: (49, 12)</small><table border=\"1\" class=\"dataframe\"><thead><tr><th>#</th><th>Name</th><th>Type 1</th><th>Type 2</th><th>HP</th><th>Attack</th><th>Defense</th><th>Sp. Atk</th><th>Sp. Def</th><th>Speed</th><th>Generation</th><th>Legendary</th></tr><tr><td>i64</td><td>str</td><td>str</td><td>str</td><td>i64</td><td>i64</td><td>i64</td><td>i64</td><td>i64</td><td>i64</td><td>i64</td><td>bool</td></tr></thead><tbody><tr><td>3</td><td>&quot;VenusaurMega Venusaur&quot;</td><td>&quot;Grass&quot;</td><td>&quot;Poison&quot;</td><td>80</td><td>100</td><td>123</td><td>122</td><td>120</td><td>80</td><td>1</td><td>false</td></tr><tr><td>6</td><td>&quot;CharizardMega Charizard X&quot;</td><td>&quot;Fire&quot;</td><td>&quot;Dragon&quot;</td><td>78</td><td>130</td><td>111</td><td>130</td><td>85</td><td>100</td><td>1</td><td>false</td></tr><tr><td>6</td><td>&quot;CharizardMega Charizard Y&quot;</td><td>&quot;Fire&quot;</td><td>&quot;Flying&quot;</td><td>78</td><td>104</td><td>78</td><td>159</td><td>115</td><td>100</td><td>1</td><td>false</td></tr><tr><td>9</td><td>&quot;BlastoiseMega Blastoise&quot;</td><td>&quot;Water&quot;</td><td>null</td><td>79</td><td>103</td><td>120</td><td>135</td><td>115</td><td>78</td><td>1</td><td>false</td></tr><tr><td>15</td><td>&quot;BeedrillMega Beedrill&quot;</td><td>&quot;Bug&quot;</td><td>&quot;Poison&quot;</td><td>65</td><td>150</td><td>40</td><td>15</td><td>80</td><td>145</td><td>1</td><td>false</td></tr><tr><td>&hellip;</td><td>&hellip;</td><td>&hellip;</td><td>&hellip;</td><td>&hellip;</td><td>&hellip;</td><td>&hellip;</td><td>&hellip;</td><td>&hellip;</td><td>&hellip;</td><td>&hellip;</td><td>&hellip;</td></tr><tr><td>448</td><td>&quot;LucarioMega Lucario&quot;</td><td>&quot;Fighting&quot;</td><td>&quot;Steel&quot;</td><td>70</td><td>145</td><td>88</td><td>140</td><td>70</td><td>112</td><td>4</td><td>false</td></tr><tr><td>460</td><td>&quot;AbomasnowMega Abomasnow&quot;</td><td>&quot;Grass&quot;</td><td>&quot;Ice&quot;</td><td>90</td><td>132</td><td>105</td><td>132</td><td>105</td><td>30</td><td>4</td><td>false</td></tr><tr><td>475</td><td>&quot;GalladeMega Gallade&quot;</td><td>&quot;Psychic&quot;</td><td>&quot;Fighting&quot;</td><td>68</td><td>165</td><td>95</td><td>65</td><td>115</td><td>110</td><td>4</td><td>false</td></tr><tr><td>531</td><td>&quot;AudinoMega Audino&quot;</td><td>&quot;Normal&quot;</td><td>&quot;Fairy&quot;</td><td>103</td><td>60</td><td>126</td><td>80</td><td>126</td><td>50</td><td>5</td><td>false</td></tr><tr><td>719</td><td>&quot;DiancieMega Diancie&quot;</td><td>&quot;Rock&quot;</td><td>&quot;Fairy&quot;</td><td>50</td><td>160</td><td>110</td><td>160</td><td>110</td><td>110</td><td>6</td><td>true</td></tr></tbody></table></div>"
      ],
      "text/plain": [
       "shape: (49, 12)\n",
       "┌─────┬───────────────────────┬──────────┬──────────┬───┬─────────┬───────┬────────────┬───────────┐\n",
       "│ #   ┆ Name                  ┆ Type 1   ┆ Type 2   ┆ … ┆ Sp. Def ┆ Speed ┆ Generation ┆ Legendary │\n",
       "│ --- ┆ ---                   ┆ ---      ┆ ---      ┆   ┆ ---     ┆ ---   ┆ ---        ┆ ---       │\n",
       "│ i64 ┆ str                   ┆ str      ┆ str      ┆   ┆ i64     ┆ i64   ┆ i64        ┆ bool      │\n",
       "╞═════╪═══════════════════════╪══════════╪══════════╪═══╪═════════╪═══════╪════════════╪═══════════╡\n",
       "│ 3   ┆ VenusaurMega Venusaur ┆ Grass    ┆ Poison   ┆ … ┆ 120     ┆ 80    ┆ 1          ┆ false     │\n",
       "│ 6   ┆ CharizardMega         ┆ Fire     ┆ Dragon   ┆ … ┆ 85      ┆ 100   ┆ 1          ┆ false     │\n",
       "│     ┆ Charizard X           ┆          ┆          ┆   ┆         ┆       ┆            ┆           │\n",
       "│ 6   ┆ CharizardMega         ┆ Fire     ┆ Flying   ┆ … ┆ 115     ┆ 100   ┆ 1          ┆ false     │\n",
       "│     ┆ Charizard Y           ┆          ┆          ┆   ┆         ┆       ┆            ┆           │\n",
       "│ 9   ┆ BlastoiseMega         ┆ Water    ┆ null     ┆ … ┆ 115     ┆ 78    ┆ 1          ┆ false     │\n",
       "│     ┆ Blastoise             ┆          ┆          ┆   ┆         ┆       ┆            ┆           │\n",
       "│ 15  ┆ BeedrillMega Beedrill ┆ Bug      ┆ Poison   ┆ … ┆ 80      ┆ 145   ┆ 1          ┆ false     │\n",
       "│ …   ┆ …                     ┆ …        ┆ …        ┆ … ┆ …       ┆ …     ┆ …          ┆ …         │\n",
       "│ 448 ┆ LucarioMega Lucario   ┆ Fighting ┆ Steel    ┆ … ┆ 70      ┆ 112   ┆ 4          ┆ false     │\n",
       "│ 460 ┆ AbomasnowMega         ┆ Grass    ┆ Ice      ┆ … ┆ 105     ┆ 30    ┆ 4          ┆ false     │\n",
       "│     ┆ Abomasnow             ┆          ┆          ┆   ┆         ┆       ┆            ┆           │\n",
       "│ 475 ┆ GalladeMega Gallade   ┆ Psychic  ┆ Fighting ┆ … ┆ 115     ┆ 110   ┆ 4          ┆ false     │\n",
       "│ 531 ┆ AudinoMega Audino     ┆ Normal   ┆ Fairy    ┆ … ┆ 126     ┆ 50    ┆ 5          ┆ false     │\n",
       "│ 719 ┆ DiancieMega Diancie   ┆ Rock     ┆ Fairy    ┆ … ┆ 110     ┆ 110   ┆ 6          ┆ true      │\n",
       "└─────┴───────────────────────┴──────────┴──────────┴───┴─────────┴───────┴────────────┴───────────┘"
      ]
     },
     "execution_count": 36,
     "metadata": {},
     "output_type": "execute_result"
    }
   ],
   "source": [
    "# Show rows where name contains 'Mega'\n",
    "(df\n",
    " .filter(pl.col('Name').str.contains('Mega'))\n",
    " )"
   ]
  },
  {
   "cell_type": "code",
   "execution_count": 37,
   "metadata": {},
   "outputs": [
    {
     "data": {
      "text/html": [
       "<div><style>\n",
       ".dataframe > thead > tr > th,\n",
       ".dataframe > tbody > tr > td {\n",
       "  text-align: right;\n",
       "  white-space: pre-wrap;\n",
       "}\n",
       "</style>\n",
       "<small>shape: (751, 12)</small><table border=\"1\" class=\"dataframe\"><thead><tr><th>#</th><th>Name</th><th>Type 1</th><th>Type 2</th><th>HP</th><th>Attack</th><th>Defense</th><th>Sp. Atk</th><th>Sp. Def</th><th>Speed</th><th>Generation</th><th>Legendary</th></tr><tr><td>i64</td><td>str</td><td>str</td><td>str</td><td>i64</td><td>i64</td><td>i64</td><td>i64</td><td>i64</td><td>i64</td><td>i64</td><td>bool</td></tr></thead><tbody><tr><td>1</td><td>&quot;Bulbasaur&quot;</td><td>&quot;Grass&quot;</td><td>&quot;Poison&quot;</td><td>45</td><td>49</td><td>49</td><td>65</td><td>65</td><td>45</td><td>1</td><td>false</td></tr><tr><td>2</td><td>&quot;Ivysaur&quot;</td><td>&quot;Grass&quot;</td><td>&quot;Poison&quot;</td><td>60</td><td>62</td><td>63</td><td>80</td><td>80</td><td>60</td><td>1</td><td>false</td></tr><tr><td>3</td><td>&quot;Venusaur&quot;</td><td>&quot;Grass&quot;</td><td>&quot;Poison&quot;</td><td>80</td><td>82</td><td>83</td><td>100</td><td>100</td><td>80</td><td>1</td><td>false</td></tr><tr><td>4</td><td>&quot;Charmander&quot;</td><td>&quot;Fire&quot;</td><td>null</td><td>39</td><td>52</td><td>43</td><td>60</td><td>50</td><td>65</td><td>1</td><td>false</td></tr><tr><td>5</td><td>&quot;Charmeleon&quot;</td><td>&quot;Fire&quot;</td><td>null</td><td>58</td><td>64</td><td>58</td><td>80</td><td>65</td><td>80</td><td>1</td><td>false</td></tr><tr><td>&hellip;</td><td>&hellip;</td><td>&hellip;</td><td>&hellip;</td><td>&hellip;</td><td>&hellip;</td><td>&hellip;</td><td>&hellip;</td><td>&hellip;</td><td>&hellip;</td><td>&hellip;</td><td>&hellip;</td></tr><tr><td>718</td><td>&quot;Zygarde50% Forme&quot;</td><td>&quot;Dragon&quot;</td><td>&quot;Ground&quot;</td><td>108</td><td>100</td><td>121</td><td>81</td><td>95</td><td>95</td><td>6</td><td>true</td></tr><tr><td>719</td><td>&quot;Diancie&quot;</td><td>&quot;Rock&quot;</td><td>&quot;Fairy&quot;</td><td>50</td><td>100</td><td>150</td><td>100</td><td>150</td><td>50</td><td>6</td><td>true</td></tr><tr><td>720</td><td>&quot;HoopaHoopa Confined&quot;</td><td>&quot;Psychic&quot;</td><td>&quot;Ghost&quot;</td><td>80</td><td>110</td><td>60</td><td>150</td><td>130</td><td>70</td><td>6</td><td>true</td></tr><tr><td>720</td><td>&quot;HoopaHoopa Unbound&quot;</td><td>&quot;Psychic&quot;</td><td>&quot;Dark&quot;</td><td>80</td><td>160</td><td>60</td><td>170</td><td>130</td><td>80</td><td>6</td><td>true</td></tr><tr><td>721</td><td>&quot;Volcanion&quot;</td><td>&quot;Fire&quot;</td><td>&quot;Water&quot;</td><td>80</td><td>110</td><td>120</td><td>130</td><td>90</td><td>70</td><td>6</td><td>true</td></tr></tbody></table></div>"
      ],
      "text/plain": [
       "shape: (751, 12)\n",
       "┌─────┬─────────────────────┬─────────┬────────┬───┬─────────┬───────┬────────────┬───────────┐\n",
       "│ #   ┆ Name                ┆ Type 1  ┆ Type 2 ┆ … ┆ Sp. Def ┆ Speed ┆ Generation ┆ Legendary │\n",
       "│ --- ┆ ---                 ┆ ---     ┆ ---    ┆   ┆ ---     ┆ ---   ┆ ---        ┆ ---       │\n",
       "│ i64 ┆ str                 ┆ str     ┆ str    ┆   ┆ i64     ┆ i64   ┆ i64        ┆ bool      │\n",
       "╞═════╪═════════════════════╪═════════╪════════╪═══╪═════════╪═══════╪════════════╪═══════════╡\n",
       "│ 1   ┆ Bulbasaur           ┆ Grass   ┆ Poison ┆ … ┆ 65      ┆ 45    ┆ 1          ┆ false     │\n",
       "│ 2   ┆ Ivysaur             ┆ Grass   ┆ Poison ┆ … ┆ 80      ┆ 60    ┆ 1          ┆ false     │\n",
       "│ 3   ┆ Venusaur            ┆ Grass   ┆ Poison ┆ … ┆ 100     ┆ 80    ┆ 1          ┆ false     │\n",
       "│ 4   ┆ Charmander          ┆ Fire    ┆ null   ┆ … ┆ 50      ┆ 65    ┆ 1          ┆ false     │\n",
       "│ 5   ┆ Charmeleon          ┆ Fire    ┆ null   ┆ … ┆ 65      ┆ 80    ┆ 1          ┆ false     │\n",
       "│ …   ┆ …                   ┆ …       ┆ …      ┆ … ┆ …       ┆ …     ┆ …          ┆ …         │\n",
       "│ 718 ┆ Zygarde50% Forme    ┆ Dragon  ┆ Ground ┆ … ┆ 95      ┆ 95    ┆ 6          ┆ true      │\n",
       "│ 719 ┆ Diancie             ┆ Rock    ┆ Fairy  ┆ … ┆ 150     ┆ 50    ┆ 6          ┆ true      │\n",
       "│ 720 ┆ HoopaHoopa Confined ┆ Psychic ┆ Ghost  ┆ … ┆ 130     ┆ 70    ┆ 6          ┆ true      │\n",
       "│ 720 ┆ HoopaHoopa Unbound  ┆ Psychic ┆ Dark   ┆ … ┆ 130     ┆ 80    ┆ 6          ┆ true      │\n",
       "│ 721 ┆ Volcanion           ┆ Fire    ┆ Water  ┆ … ┆ 90      ┆ 70    ┆ 6          ┆ true      │\n",
       "└─────┴─────────────────────┴─────────┴────────┴───┴─────────┴───────┴────────────┴───────────┘"
      ]
     },
     "execution_count": 37,
     "metadata": {},
     "output_type": "execute_result"
    }
   ],
   "source": [
    "# Show rows where name does not contains 'Mega'\n",
    "(df\n",
    " .filter(~pl.col('Name').str.contains('Mega'))\n",
    " )"
   ]
  },
  {
   "cell_type": "code",
   "execution_count": null,
   "metadata": {},
   "outputs": [],
   "source": []
  },
  {
   "cell_type": "code",
   "execution_count": 46,
   "metadata": {},
   "outputs": [
    {
     "data": {
      "text/html": [
       "<div><style>\n",
       ".dataframe > thead > tr > th,\n",
       ".dataframe > tbody > tr > td {\n",
       "  text-align: right;\n",
       "  white-space: pre-wrap;\n",
       "}\n",
       "</style>\n",
       "<small>shape: (122, 12)</small><table border=\"1\" class=\"dataframe\"><thead><tr><th>#</th><th>Name</th><th>Type 1</th><th>Type 2</th><th>HP</th><th>Attack</th><th>Defense</th><th>Sp. Atk</th><th>Sp. Def</th><th>Speed</th><th>Generation</th><th>Legendary</th></tr><tr><td>i64</td><td>str</td><td>str</td><td>str</td><td>i64</td><td>i64</td><td>i64</td><td>i64</td><td>i64</td><td>i64</td><td>i64</td><td>bool</td></tr></thead><tbody><tr><td>1</td><td>&quot;Bulbasaur&quot;</td><td>&quot;Grass&quot;</td><td>&quot;Poison&quot;</td><td>45</td><td>49</td><td>49</td><td>65</td><td>65</td><td>45</td><td>1</td><td>false</td></tr><tr><td>2</td><td>&quot;Ivysaur&quot;</td><td>&quot;Grass&quot;</td><td>&quot;Poison&quot;</td><td>60</td><td>62</td><td>63</td><td>80</td><td>80</td><td>60</td><td>1</td><td>false</td></tr><tr><td>3</td><td>&quot;Venusaur&quot;</td><td>&quot;Grass&quot;</td><td>&quot;Poison&quot;</td><td>80</td><td>82</td><td>83</td><td>100</td><td>100</td><td>80</td><td>1</td><td>false</td></tr><tr><td>3</td><td>&quot;VenusaurMega Venusaur&quot;</td><td>&quot;Grass&quot;</td><td>&quot;Poison&quot;</td><td>80</td><td>100</td><td>123</td><td>122</td><td>120</td><td>80</td><td>1</td><td>false</td></tr><tr><td>4</td><td>&quot;Charmander&quot;</td><td>&quot;Fire&quot;</td><td>null</td><td>39</td><td>52</td><td>43</td><td>60</td><td>50</td><td>65</td><td>1</td><td>false</td></tr><tr><td>&hellip;</td><td>&hellip;</td><td>&hellip;</td><td>&hellip;</td><td>&hellip;</td><td>&hellip;</td><td>&hellip;</td><td>&hellip;</td><td>&hellip;</td><td>&hellip;</td><td>&hellip;</td><td>&hellip;</td></tr><tr><td>667</td><td>&quot;Litleo&quot;</td><td>&quot;Fire&quot;</td><td>&quot;Normal&quot;</td><td>62</td><td>50</td><td>58</td><td>73</td><td>54</td><td>72</td><td>6</td><td>false</td></tr><tr><td>668</td><td>&quot;Pyroar&quot;</td><td>&quot;Fire&quot;</td><td>&quot;Normal&quot;</td><td>86</td><td>68</td><td>72</td><td>109</td><td>66</td><td>106</td><td>6</td><td>false</td></tr><tr><td>672</td><td>&quot;Skiddo&quot;</td><td>&quot;Grass&quot;</td><td>null</td><td>66</td><td>65</td><td>48</td><td>62</td><td>57</td><td>52</td><td>6</td><td>false</td></tr><tr><td>673</td><td>&quot;Gogoat&quot;</td><td>&quot;Grass&quot;</td><td>null</td><td>123</td><td>100</td><td>62</td><td>97</td><td>81</td><td>68</td><td>6</td><td>false</td></tr><tr><td>721</td><td>&quot;Volcanion&quot;</td><td>&quot;Fire&quot;</td><td>&quot;Water&quot;</td><td>80</td><td>110</td><td>120</td><td>130</td><td>90</td><td>70</td><td>6</td><td>true</td></tr></tbody></table></div>"
      ],
      "text/plain": [
       "shape: (122, 12)\n",
       "┌─────┬───────────────────────┬────────┬────────┬───┬─────────┬───────┬────────────┬───────────┐\n",
       "│ #   ┆ Name                  ┆ Type 1 ┆ Type 2 ┆ … ┆ Sp. Def ┆ Speed ┆ Generation ┆ Legendary │\n",
       "│ --- ┆ ---                   ┆ ---    ┆ ---    ┆   ┆ ---     ┆ ---   ┆ ---        ┆ ---       │\n",
       "│ i64 ┆ str                   ┆ str    ┆ str    ┆   ┆ i64     ┆ i64   ┆ i64        ┆ bool      │\n",
       "╞═════╪═══════════════════════╪════════╪════════╪═══╪═════════╪═══════╪════════════╪═══════════╡\n",
       "│ 1   ┆ Bulbasaur             ┆ Grass  ┆ Poison ┆ … ┆ 65      ┆ 45    ┆ 1          ┆ false     │\n",
       "│ 2   ┆ Ivysaur               ┆ Grass  ┆ Poison ┆ … ┆ 80      ┆ 60    ┆ 1          ┆ false     │\n",
       "│ 3   ┆ Venusaur              ┆ Grass  ┆ Poison ┆ … ┆ 100     ┆ 80    ┆ 1          ┆ false     │\n",
       "│ 3   ┆ VenusaurMega Venusaur ┆ Grass  ┆ Poison ┆ … ┆ 120     ┆ 80    ┆ 1          ┆ false     │\n",
       "│ 4   ┆ Charmander            ┆ Fire   ┆ null   ┆ … ┆ 50      ┆ 65    ┆ 1          ┆ false     │\n",
       "│ …   ┆ …                     ┆ …      ┆ …      ┆ … ┆ …       ┆ …     ┆ …          ┆ …         │\n",
       "│ 667 ┆ Litleo                ┆ Fire   ┆ Normal ┆ … ┆ 54      ┆ 72    ┆ 6          ┆ false     │\n",
       "│ 668 ┆ Pyroar                ┆ Fire   ┆ Normal ┆ … ┆ 66      ┆ 106   ┆ 6          ┆ false     │\n",
       "│ 672 ┆ Skiddo                ┆ Grass  ┆ null   ┆ … ┆ 57      ┆ 52    ┆ 6          ┆ false     │\n",
       "│ 673 ┆ Gogoat                ┆ Grass  ┆ null   ┆ … ┆ 81      ┆ 68    ┆ 6          ┆ false     │\n",
       "│ 721 ┆ Volcanion             ┆ Fire   ┆ Water  ┆ … ┆ 90      ┆ 70    ┆ 6          ┆ true      │\n",
       "└─────┴───────────────────────┴────────┴────────┴───┴─────────┴───────┴────────────┴───────────┘"
      ]
     },
     "execution_count": 46,
     "metadata": {},
     "output_type": "execute_result"
    }
   ],
   "source": [
    "# Filter with regular expression (case insensitive)\n",
    "(df\n",
    " .filter(pl.col('Type 1').str.contains(r'(?i)fire|grass'))\n",
    " )"
   ]
  },
  {
   "cell_type": "code",
   "execution_count": 56,
   "metadata": {},
   "outputs": [
    {
     "data": {
      "text/html": [
       "<div><style>\n",
       ".dataframe > thead > tr > th,\n",
       ".dataframe > tbody > tr > td {\n",
       "  text-align: right;\n",
       "  white-space: pre-wrap;\n",
       "}\n",
       "</style>\n",
       "<small>shape: (800, 12)</small><table border=\"1\" class=\"dataframe\"><thead><tr><th>#</th><th>Name</th><th>Type 1</th><th>Type 2</th><th>HP</th><th>Attack</th><th>Defense</th><th>Sp. Atk</th><th>Sp. Def</th><th>Speed</th><th>Generation</th><th>Legendary</th></tr><tr><td>i64</td><td>str</td><td>str</td><td>str</td><td>i64</td><td>i64</td><td>i64</td><td>i64</td><td>i64</td><td>i64</td><td>i64</td><td>bool</td></tr></thead><tbody><tr><td>1</td><td>&quot;Bulbasaur&quot;</td><td>&quot;Grass&quot;</td><td>&quot;Poison&quot;</td><td>45</td><td>49</td><td>49</td><td>65</td><td>65</td><td>45</td><td>1</td><td>false</td></tr><tr><td>2</td><td>&quot;Ivysaur&quot;</td><td>&quot;Grass&quot;</td><td>&quot;Poison&quot;</td><td>60</td><td>62</td><td>63</td><td>80</td><td>80</td><td>60</td><td>1</td><td>false</td></tr><tr><td>3</td><td>&quot;Venusaur&quot;</td><td>&quot;Grass&quot;</td><td>&quot;Poison&quot;</td><td>80</td><td>82</td><td>83</td><td>100</td><td>100</td><td>80</td><td>1</td><td>false</td></tr><tr><td>3</td><td>&quot;VenusaurMega Venusaur&quot;</td><td>&quot;Grass&quot;</td><td>&quot;Poison&quot;</td><td>80</td><td>100</td><td>123</td><td>122</td><td>120</td><td>80</td><td>1</td><td>false</td></tr><tr><td>4</td><td>&quot;Charmander&quot;</td><td>&quot;Flamer&quot;</td><td>null</td><td>39</td><td>52</td><td>43</td><td>60</td><td>50</td><td>65</td><td>1</td><td>false</td></tr><tr><td>&hellip;</td><td>&hellip;</td><td>&hellip;</td><td>&hellip;</td><td>&hellip;</td><td>&hellip;</td><td>&hellip;</td><td>&hellip;</td><td>&hellip;</td><td>&hellip;</td><td>&hellip;</td><td>&hellip;</td></tr><tr><td>719</td><td>&quot;Diancie&quot;</td><td>&quot;Rock&quot;</td><td>&quot;Fairy&quot;</td><td>50</td><td>100</td><td>150</td><td>100</td><td>150</td><td>50</td><td>6</td><td>true</td></tr><tr><td>719</td><td>&quot;DiancieMega Diancie&quot;</td><td>&quot;Rock&quot;</td><td>&quot;Fairy&quot;</td><td>50</td><td>160</td><td>110</td><td>160</td><td>110</td><td>110</td><td>6</td><td>true</td></tr><tr><td>720</td><td>&quot;HoopaHoopa Confined&quot;</td><td>&quot;Psychic&quot;</td><td>&quot;Ghost&quot;</td><td>80</td><td>110</td><td>60</td><td>150</td><td>130</td><td>70</td><td>6</td><td>true</td></tr><tr><td>720</td><td>&quot;HoopaHoopa Unbound&quot;</td><td>&quot;Psychic&quot;</td><td>&quot;Dark&quot;</td><td>80</td><td>160</td><td>60</td><td>170</td><td>130</td><td>80</td><td>6</td><td>true</td></tr><tr><td>721</td><td>&quot;Volcanion&quot;</td><td>&quot;Flamer&quot;</td><td>&quot;Water&quot;</td><td>80</td><td>110</td><td>120</td><td>130</td><td>90</td><td>70</td><td>6</td><td>true</td></tr></tbody></table></div>"
      ],
      "text/plain": [
       "shape: (800, 12)\n",
       "┌─────┬───────────────────────┬─────────┬────────┬───┬─────────┬───────┬────────────┬───────────┐\n",
       "│ #   ┆ Name                  ┆ Type 1  ┆ Type 2 ┆ … ┆ Sp. Def ┆ Speed ┆ Generation ┆ Legendary │\n",
       "│ --- ┆ ---                   ┆ ---     ┆ ---    ┆   ┆ ---     ┆ ---   ┆ ---        ┆ ---       │\n",
       "│ i64 ┆ str                   ┆ str     ┆ str    ┆   ┆ i64     ┆ i64   ┆ i64        ┆ bool      │\n",
       "╞═════╪═══════════════════════╪═════════╪════════╪═══╪═════════╪═══════╪════════════╪═══════════╡\n",
       "│ 1   ┆ Bulbasaur             ┆ Grass   ┆ Poison ┆ … ┆ 65      ┆ 45    ┆ 1          ┆ false     │\n",
       "│ 2   ┆ Ivysaur               ┆ Grass   ┆ Poison ┆ … ┆ 80      ┆ 60    ┆ 1          ┆ false     │\n",
       "│ 3   ┆ Venusaur              ┆ Grass   ┆ Poison ┆ … ┆ 100     ┆ 80    ┆ 1          ┆ false     │\n",
       "│ 3   ┆ VenusaurMega Venusaur ┆ Grass   ┆ Poison ┆ … ┆ 120     ┆ 80    ┆ 1          ┆ false     │\n",
       "│ 4   ┆ Charmander            ┆ Flamer  ┆ null   ┆ … ┆ 50      ┆ 65    ┆ 1          ┆ false     │\n",
       "│ …   ┆ …                     ┆ …       ┆ …      ┆ … ┆ …       ┆ …     ┆ …          ┆ …         │\n",
       "│ 719 ┆ Diancie               ┆ Rock    ┆ Fairy  ┆ … ┆ 150     ┆ 50    ┆ 6          ┆ true      │\n",
       "│ 719 ┆ DiancieMega Diancie   ┆ Rock    ┆ Fairy  ┆ … ┆ 110     ┆ 110   ┆ 6          ┆ true      │\n",
       "│ 720 ┆ HoopaHoopa Confined   ┆ Psychic ┆ Ghost  ┆ … ┆ 130     ┆ 70    ┆ 6          ┆ true      │\n",
       "│ 720 ┆ HoopaHoopa Unbound    ┆ Psychic ┆ Dark   ┆ … ┆ 130     ┆ 80    ┆ 6          ┆ true      │\n",
       "│ 721 ┆ Volcanion             ┆ Flamer  ┆ Water  ┆ … ┆ 90      ┆ 70    ┆ 6          ┆ true      │\n",
       "└─────┴───────────────────────┴─────────┴────────┴───┴─────────┴───────┴────────────┴───────────┘"
      ]
     },
     "execution_count": 56,
     "metadata": {},
     "output_type": "execute_result"
    }
   ],
   "source": [
    "# Change Fire value in Type 1 to Flamer\n",
    "(df\n",
    " .with_columns(pl.when(pl.col('Type 1') == 'Fire')\n",
    "               .then(pl.lit('Flamer'))\n",
    "               .otherwise(pl.col('Type 1'))\n",
    "               .alias('Type 1'))\n",
    " )"
   ]
  },
  {
   "cell_type": "markdown",
   "metadata": {},
   "source": [
    "### Aggregations"
   ]
  },
  {
   "cell_type": "code",
   "execution_count": 69,
   "metadata": {},
   "outputs": [
    {
     "data": {
      "text/html": [
       "<div><style>\n",
       ".dataframe > thead > tr > th,\n",
       ".dataframe > tbody > tr > td {\n",
       "  text-align: right;\n",
       "  white-space: pre-wrap;\n",
       "}\n",
       "</style>\n",
       "<small>shape: (18, 2)</small><table border=\"1\" class=\"dataframe\"><thead><tr><th>Type 1</th><th>Defense</th></tr><tr><td>str</td><td>f64</td></tr></thead><tbody><tr><td>&quot;Steel&quot;</td><td>126.37037</td></tr><tr><td>&quot;Rock&quot;</td><td>100.795455</td></tr><tr><td>&quot;Dragon&quot;</td><td>86.375</td></tr><tr><td>&quot;Ground&quot;</td><td>84.84375</td></tr><tr><td>&quot;Ghost&quot;</td><td>81.1875</td></tr><tr><td>&hellip;</td><td>&hellip;</td></tr><tr><td>&quot;Electric&quot;</td><td>66.295455</td></tr><tr><td>&quot;Flying&quot;</td><td>66.25</td></tr><tr><td>&quot;Fighting&quot;</td><td>65.925926</td></tr><tr><td>&quot;Fairy&quot;</td><td>65.705882</td></tr><tr><td>&quot;Normal&quot;</td><td>59.846939</td></tr></tbody></table></div>"
      ],
      "text/plain": [
       "shape: (18, 2)\n",
       "┌──────────┬────────────┐\n",
       "│ Type 1   ┆ Defense    │\n",
       "│ ---      ┆ ---        │\n",
       "│ str      ┆ f64        │\n",
       "╞══════════╪════════════╡\n",
       "│ Steel    ┆ 126.37037  │\n",
       "│ Rock     ┆ 100.795455 │\n",
       "│ Dragon   ┆ 86.375     │\n",
       "│ Ground   ┆ 84.84375   │\n",
       "│ Ghost    ┆ 81.1875    │\n",
       "│ …        ┆ …          │\n",
       "│ Electric ┆ 66.295455  │\n",
       "│ Flying   ┆ 66.25      │\n",
       "│ Fighting ┆ 65.925926  │\n",
       "│ Fairy    ┆ 65.705882  │\n",
       "│ Normal   ┆ 59.846939  │\n",
       "└──────────┴────────────┘"
      ]
     },
     "execution_count": 69,
     "metadata": {},
     "output_type": "execute_result"
    }
   ],
   "source": [
    "# Show type with highest defence.\n",
    "(df\n",
    " .group_by('Type 1')\n",
    " .mean()\n",
    " .sort('Defense', descending=True)\n",
    " .select('Type 1', 'Defense')\n",
    " )"
   ]
  },
  {
   "cell_type": "code",
   "execution_count": 68,
   "metadata": {},
   "outputs": [
    {
     "data": {
      "text/html": [
       "<div><style>\n",
       ".dataframe > thead > tr > th,\n",
       ".dataframe > tbody > tr > td {\n",
       "  text-align: right;\n",
       "  white-space: pre-wrap;\n",
       "}\n",
       "</style>\n",
       "<small>shape: (18, 2)</small><table border=\"1\" class=\"dataframe\"><thead><tr><th>Type 1</th><th>Attack</th></tr><tr><td>str</td><td>f64</td></tr></thead><tbody><tr><td>&quot;Dragon&quot;</td><td>112.125</td></tr><tr><td>&quot;Fighting&quot;</td><td>96.777778</td></tr><tr><td>&quot;Ground&quot;</td><td>95.75</td></tr><tr><td>&quot;Rock&quot;</td><td>92.863636</td></tr><tr><td>&quot;Steel&quot;</td><td>92.703704</td></tr><tr><td>&hellip;</td><td>&hellip;</td></tr><tr><td>&quot;Ice&quot;</td><td>72.75</td></tr><tr><td>&quot;Psychic&quot;</td><td>71.45614</td></tr><tr><td>&quot;Bug&quot;</td><td>70.971014</td></tr><tr><td>&quot;Electric&quot;</td><td>69.090909</td></tr><tr><td>&quot;Fairy&quot;</td><td>61.529412</td></tr></tbody></table></div>"
      ],
      "text/plain": [
       "shape: (18, 2)\n",
       "┌──────────┬───────────┐\n",
       "│ Type 1   ┆ Attack    │\n",
       "│ ---      ┆ ---       │\n",
       "│ str      ┆ f64       │\n",
       "╞══════════╪═══════════╡\n",
       "│ Dragon   ┆ 112.125   │\n",
       "│ Fighting ┆ 96.777778 │\n",
       "│ Ground   ┆ 95.75     │\n",
       "│ Rock     ┆ 92.863636 │\n",
       "│ Steel    ┆ 92.703704 │\n",
       "│ …        ┆ …         │\n",
       "│ Ice      ┆ 72.75     │\n",
       "│ Psychic  ┆ 71.45614  │\n",
       "│ Bug      ┆ 70.971014 │\n",
       "│ Electric ┆ 69.090909 │\n",
       "│ Fairy    ┆ 61.529412 │\n",
       "└──────────┴───────────┘"
      ]
     },
     "execution_count": 68,
     "metadata": {},
     "output_type": "execute_result"
    }
   ],
   "source": [
    "# Highest attack by type\n",
    "(df\n",
    " .group_by('Type 1')\n",
    " .mean()\n",
    " .sort('Attack', descending=True)\n",
    " .select(['Type 1', 'Attack'])\n",
    " )"
   ]
  },
  {
   "cell_type": "code",
   "execution_count": 77,
   "metadata": {},
   "outputs": [
    {
     "data": {
      "text/html": [
       "<div><style>\n",
       ".dataframe > thead > tr > th,\n",
       ".dataframe > tbody > tr > td {\n",
       "  text-align: right;\n",
       "  white-space: pre-wrap;\n",
       "}\n",
       "</style>\n",
       "<small>shape: (18, 2)</small><table border=\"1\" class=\"dataframe\"><thead><tr><th>Type 1</th><th>count</th></tr><tr><td>str</td><td>u32</td></tr></thead><tbody><tr><td>&quot;Bug&quot;</td><td>69</td></tr><tr><td>&quot;Electric&quot;</td><td>44</td></tr><tr><td>&quot;Water&quot;</td><td>112</td></tr><tr><td>&quot;Psychic&quot;</td><td>57</td></tr><tr><td>&quot;Dragon&quot;</td><td>32</td></tr><tr><td>&hellip;</td><td>&hellip;</td></tr><tr><td>&quot;Flying&quot;</td><td>4</td></tr><tr><td>&quot;Grass&quot;</td><td>70</td></tr><tr><td>&quot;Dark&quot;</td><td>31</td></tr><tr><td>&quot;Ground&quot;</td><td>32</td></tr><tr><td>&quot;Fire&quot;</td><td>52</td></tr></tbody></table></div>"
      ],
      "text/plain": [
       "shape: (18, 2)\n",
       "┌──────────┬───────┐\n",
       "│ Type 1   ┆ count │\n",
       "│ ---      ┆ ---   │\n",
       "│ str      ┆ u32   │\n",
       "╞══════════╪═══════╡\n",
       "│ Bug      ┆ 69    │\n",
       "│ Electric ┆ 44    │\n",
       "│ Water    ┆ 112   │\n",
       "│ Psychic  ┆ 57    │\n",
       "│ Dragon   ┆ 32    │\n",
       "│ …        ┆ …     │\n",
       "│ Flying   ┆ 4     │\n",
       "│ Grass    ┆ 70    │\n",
       "│ Dark     ┆ 31    │\n",
       "│ Ground   ┆ 32    │\n",
       "│ Fire     ┆ 52    │\n",
       "└──────────┴───────┘"
      ]
     },
     "execution_count": 77,
     "metadata": {},
     "output_type": "execute_result"
    }
   ],
   "source": [
    "# How many of each type in Type 1\n",
    "(df\n",
    " .group_by('Type 1').count()\n",
    " )"
   ]
  },
  {
   "cell_type": "code",
   "execution_count": 78,
   "metadata": {},
   "outputs": [
    {
     "data": {
      "text/html": [
       "<div><style>\n",
       ".dataframe > thead > tr > th,\n",
       ".dataframe > tbody > tr > td {\n",
       "  text-align: right;\n",
       "  white-space: pre-wrap;\n",
       "}\n",
       "</style>\n",
       "<small>shape: (154, 3)</small><table border=\"1\" class=\"dataframe\"><thead><tr><th>Type 1</th><th>Type 2</th><th>count</th></tr><tr><td>str</td><td>str</td><td>u32</td></tr></thead><tbody><tr><td>&quot;Grass&quot;</td><td>&quot;Poison&quot;</td><td>15</td></tr><tr><td>&quot;Water&quot;</td><td>null</td><td>59</td></tr><tr><td>&quot;Ground&quot;</td><td>null</td><td>13</td></tr><tr><td>&quot;Fighting&quot;</td><td>null</td><td>20</td></tr><tr><td>&quot;Psychic&quot;</td><td>null</td><td>38</td></tr><tr><td>&hellip;</td><td>&hellip;</td><td>&hellip;</td></tr><tr><td>&quot;Fighting&quot;</td><td>&quot;Dark&quot;</td><td>1</td></tr><tr><td>&quot;Rock&quot;</td><td>&quot;Ice&quot;</td><td>2</td></tr><tr><td>&quot;Rock&quot;</td><td>&quot;Fairy&quot;</td><td>3</td></tr><tr><td>&quot;Ghost&quot;</td><td>&quot;Grass&quot;</td><td>10</td></tr><tr><td>&quot;Psychic&quot;</td><td>&quot;Dark&quot;</td><td>1</td></tr></tbody></table></div>"
      ],
      "text/plain": [
       "shape: (154, 3)\n",
       "┌──────────┬────────┬───────┐\n",
       "│ Type 1   ┆ Type 2 ┆ count │\n",
       "│ ---      ┆ ---    ┆ ---   │\n",
       "│ str      ┆ str    ┆ u32   │\n",
       "╞══════════╪════════╪═══════╡\n",
       "│ Grass    ┆ Poison ┆ 15    │\n",
       "│ Water    ┆ null   ┆ 59    │\n",
       "│ Ground   ┆ null   ┆ 13    │\n",
       "│ Fighting ┆ null   ┆ 20    │\n",
       "│ Psychic  ┆ null   ┆ 38    │\n",
       "│ …        ┆ …      ┆ …     │\n",
       "│ Fighting ┆ Dark   ┆ 1     │\n",
       "│ Rock     ┆ Ice    ┆ 2     │\n",
       "│ Rock     ┆ Fairy  ┆ 3     │\n",
       "│ Ghost    ┆ Grass  ┆ 10    │\n",
       "│ Psychic  ┆ Dark   ┆ 1     │\n",
       "└──────────┴────────┴───────┘"
      ]
     },
     "execution_count": 78,
     "metadata": {},
     "output_type": "execute_result"
    }
   ],
   "source": [
    "# Group by Type 1 and Type 2\n",
    "(df\n",
    " .group_by('Type 1','Type 2').count()\n",
    " )"
   ]
  },
  {
   "cell_type": "code",
   "execution_count": null,
   "metadata": {},
   "outputs": [],
   "source": []
  }
 ],
 "metadata": {
  "kernelspec": {
   "display_name": "time_env",
   "language": "python",
   "name": "python3"
  },
  "language_info": {
   "codemirror_mode": {
    "name": "ipython",
    "version": 3
   },
   "file_extension": ".py",
   "mimetype": "text/x-python",
   "name": "python",
   "nbconvert_exporter": "python",
   "pygments_lexer": "ipython3",
   "version": "3.11.4"
  }
 },
 "nbformat": 4,
 "nbformat_minor": 2
}
