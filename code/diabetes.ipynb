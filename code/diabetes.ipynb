{
 "cells": [
  {
   "cell_type": "markdown",
   "metadata": {},
   "source": [
    "### Steps to clean the dataset\n",
    "1. Check number of columns\n",
    "2. Correct mispelled column names\n",
    "3. Check for missing values\n",
    "4. Check for duplicate vlaues\n",
    "5. Check for outliers"
   ]
  },
  {
   "cell_type": "code",
   "execution_count": 1,
   "metadata": {},
   "outputs": [
    {
     "data": {
      "text/plain": [
       "polars.config.Config"
      ]
     },
     "execution_count": 1,
     "metadata": {},
     "output_type": "execute_result"
    }
   ],
   "source": [
    "import polars as pl\n",
    "import pandas as pd\n",
    "import numpy as np\n",
    "import matplotlib.pyplot as plt\n",
    "import seaborn as sns\n",
    "\n",
    "pl.Config.set_tbl_rows(10)\n",
    "pl.Config.set_fmt_str_lengths(30)"
   ]
  },
  {
   "cell_type": "code",
   "execution_count": 7,
   "metadata": {},
   "outputs": [
    {
     "data": {
      "text/html": [
       "<div><style>\n",
       ".dataframe > thead > tr > th,\n",
       ".dataframe > tbody > tr > td {\n",
       "  text-align: right;\n",
       "  white-space: pre-wrap;\n",
       "}\n",
       "</style>\n",
       "<small>shape: (5, 14)</small><table border=\"1\" class=\"dataframe\"><thead><tr><th>ID</th><th>No_Pation</th><th>Gender</th><th>AGE</th><th>Urea</th><th>Cr</th><th>HbA1c</th><th>Chol</th><th>TG</th><th>HDL</th><th>LDL</th><th>VLDL</th><th>BMI</th><th>CLASS</th></tr><tr><td>i64</td><td>i64</td><td>str</td><td>i64</td><td>f64</td><td>i64</td><td>f64</td><td>f64</td><td>f64</td><td>f64</td><td>f64</td><td>f64</td><td>f64</td><td>str</td></tr></thead><tbody><tr><td>502</td><td>17975</td><td>&quot;F&quot;</td><td>50</td><td>4.7</td><td>46</td><td>4.9</td><td>4.2</td><td>0.9</td><td>2.4</td><td>1.4</td><td>0.5</td><td>24.0</td><td>&quot;N&quot;</td></tr><tr><td>735</td><td>34221</td><td>&quot;M&quot;</td><td>26</td><td>4.5</td><td>62</td><td>4.9</td><td>3.7</td><td>1.4</td><td>1.1</td><td>2.1</td><td>0.6</td><td>23.0</td><td>&quot;N&quot;</td></tr><tr><td>420</td><td>47975</td><td>&quot;F&quot;</td><td>50</td><td>4.7</td><td>46</td><td>4.9</td><td>4.2</td><td>0.9</td><td>2.4</td><td>1.4</td><td>0.5</td><td>24.0</td><td>&quot;N&quot;</td></tr><tr><td>680</td><td>87656</td><td>&quot;F&quot;</td><td>50</td><td>4.7</td><td>46</td><td>4.9</td><td>4.2</td><td>0.9</td><td>2.4</td><td>1.4</td><td>0.5</td><td>24.0</td><td>&quot;N&quot;</td></tr><tr><td>504</td><td>34223</td><td>&quot;M&quot;</td><td>33</td><td>7.1</td><td>46</td><td>4.9</td><td>4.9</td><td>1.0</td><td>0.8</td><td>2.0</td><td>0.4</td><td>21.0</td><td>&quot;N&quot;</td></tr></tbody></table></div>"
      ],
      "text/plain": [
       "shape: (5, 14)\n",
       "┌─────┬───────────┬────────┬─────┬───┬─────┬──────┬──────┬───────┐\n",
       "│ ID  ┆ No_Pation ┆ Gender ┆ AGE ┆ … ┆ LDL ┆ VLDL ┆ BMI  ┆ CLASS │\n",
       "│ --- ┆ ---       ┆ ---    ┆ --- ┆   ┆ --- ┆ ---  ┆ ---  ┆ ---   │\n",
       "│ i64 ┆ i64       ┆ str    ┆ i64 ┆   ┆ f64 ┆ f64  ┆ f64  ┆ str   │\n",
       "╞═════╪═══════════╪════════╪═════╪═══╪═════╪══════╪══════╪═══════╡\n",
       "│ 502 ┆ 17975     ┆ F      ┆ 50  ┆ … ┆ 1.4 ┆ 0.5  ┆ 24.0 ┆ N     │\n",
       "│ 735 ┆ 34221     ┆ M      ┆ 26  ┆ … ┆ 2.1 ┆ 0.6  ┆ 23.0 ┆ N     │\n",
       "│ 420 ┆ 47975     ┆ F      ┆ 50  ┆ … ┆ 1.4 ┆ 0.5  ┆ 24.0 ┆ N     │\n",
       "│ 680 ┆ 87656     ┆ F      ┆ 50  ┆ … ┆ 1.4 ┆ 0.5  ┆ 24.0 ┆ N     │\n",
       "│ 504 ┆ 34223     ┆ M      ┆ 33  ┆ … ┆ 2.0 ┆ 0.4  ┆ 21.0 ┆ N     │\n",
       "└─────┴───────────┴────────┴─────┴───┴─────┴──────┴──────┴───────┘"
      ]
     },
     "execution_count": 7,
     "metadata": {},
     "output_type": "execute_result"
    }
   ],
   "source": [
    "df = pl.read_csv('../data/diabetes_unclean.csv')\n",
    "df.head()"
   ]
  },
  {
   "cell_type": "code",
   "execution_count": 8,
   "metadata": {},
   "outputs": [
    {
     "data": {
      "text/plain": [
       "['ID',\n",
       " 'No_Pation',\n",
       " 'Gender',\n",
       " 'AGE',\n",
       " 'Urea',\n",
       " 'Cr',\n",
       " 'HbA1c',\n",
       " 'Chol',\n",
       " 'TG',\n",
       " 'HDL',\n",
       " 'LDL',\n",
       " 'VLDL',\n",
       " 'BMI',\n",
       " 'CLASS']"
      ]
     },
     "execution_count": 8,
     "metadata": {},
     "output_type": "execute_result"
    }
   ],
   "source": [
    "# Get column names\n",
    "df.columns"
   ]
  },
  {
   "cell_type": "code",
   "execution_count": 9,
   "metadata": {},
   "outputs": [],
   "source": [
    "# Correct misspelled column names\n",
    "df = df.rename({'No_Pation': 'Patients_No'})"
   ]
  },
  {
   "cell_type": "code",
   "execution_count": 10,
   "metadata": {},
   "outputs": [
    {
     "data": {
      "text/plain": [
       "['ID',\n",
       " 'Patients_No',\n",
       " 'Gender',\n",
       " 'AGE',\n",
       " 'Urea',\n",
       " 'Cr',\n",
       " 'HbA1c',\n",
       " 'Chol',\n",
       " 'TG',\n",
       " 'HDL',\n",
       " 'LDL',\n",
       " 'VLDL',\n",
       " 'BMI',\n",
       " 'CLASS']"
      ]
     },
     "execution_count": 10,
     "metadata": {},
     "output_type": "execute_result"
    }
   ],
   "source": [
    "# Confirm that the column names have been corrected\n",
    "df.columns"
   ]
  },
  {
   "cell_type": "code",
   "execution_count": 16,
   "metadata": {},
   "outputs": [
    {
     "data": {
      "text/html": [
       "<div><style>\n",
       ".dataframe > thead > tr > th,\n",
       ".dataframe > tbody > tr > td {\n",
       "  text-align: right;\n",
       "  white-space: pre-wrap;\n",
       "}\n",
       "</style>\n",
       "<small>shape: (1, 14)</small><table border=\"1\" class=\"dataframe\"><thead><tr><th>ID</th><th>Patients_No</th><th>Gender</th><th>AGE</th><th>Urea</th><th>Cr</th><th>HbA1c</th><th>Chol</th><th>TG</th><th>HDL</th><th>LDL</th><th>VLDL</th><th>BMI</th><th>CLASS</th></tr><tr><td>u32</td><td>u32</td><td>u32</td><td>u32</td><td>u32</td><td>u32</td><td>u32</td><td>u32</td><td>u32</td><td>u32</td><td>u32</td><td>u32</td><td>u32</td><td>u32</td></tr></thead><tbody><tr><td>0</td><td>0</td><td>0</td><td>1</td><td>1</td><td>2</td><td>3</td><td>2</td><td>2</td><td>1</td><td>2</td><td>1</td><td>0</td><td>0</td></tr></tbody></table></div>"
      ],
      "text/plain": [
       "shape: (1, 14)\n",
       "┌─────┬─────────────┬────────┬─────┬───┬─────┬──────┬─────┬───────┐\n",
       "│ ID  ┆ Patients_No ┆ Gender ┆ AGE ┆ … ┆ LDL ┆ VLDL ┆ BMI ┆ CLASS │\n",
       "│ --- ┆ ---         ┆ ---    ┆ --- ┆   ┆ --- ┆ ---  ┆ --- ┆ ---   │\n",
       "│ u32 ┆ u32         ┆ u32    ┆ u32 ┆   ┆ u32 ┆ u32  ┆ u32 ┆ u32   │\n",
       "╞═════╪═════════════╪════════╪═════╪═══╪═════╪══════╪═════╪═══════╡\n",
       "│ 0   ┆ 0           ┆ 0      ┆ 1   ┆ … ┆ 2   ┆ 1    ┆ 0   ┆ 0     │\n",
       "└─────┴─────────────┴────────┴─────┴───┴─────┴──────┴─────┴───────┘"
      ]
     },
     "execution_count": 16,
     "metadata": {},
     "output_type": "execute_result"
    }
   ],
   "source": [
    "# Check for missing values\n",
    "df.null_count()"
   ]
  },
  {
   "cell_type": "code",
   "execution_count": 17,
   "metadata": {},
   "outputs": [
    {
     "data": {
      "text/plain": [
       "8.284155069582505"
      ]
     },
     "execution_count": 17,
     "metadata": {},
     "output_type": "execute_result"
    }
   ],
   "source": [
    "# Replace the missing values in HbA1c with mean value.\n",
    "# First, get the mean value\n",
    "mean_value = df['HbA1c'].mean()\n",
    "mean_value"
   ]
  },
  {
   "cell_type": "code",
   "execution_count": 19,
   "metadata": {},
   "outputs": [],
   "source": [
    "# Fill in missing records with mean value\n",
    "df = df.with_columns(pl.col('HbA1c').fill_null(mean_value))"
   ]
  },
  {
   "cell_type": "code",
   "execution_count": 20,
   "metadata": {},
   "outputs": [
    {
     "data": {
      "text/html": [
       "<div><style>\n",
       ".dataframe > thead > tr > th,\n",
       ".dataframe > tbody > tr > td {\n",
       "  text-align: right;\n",
       "  white-space: pre-wrap;\n",
       "}\n",
       "</style>\n",
       "<small>shape: (1, 14)</small><table border=\"1\" class=\"dataframe\"><thead><tr><th>ID</th><th>Patients_No</th><th>Gender</th><th>AGE</th><th>Urea</th><th>Cr</th><th>HbA1c</th><th>Chol</th><th>TG</th><th>HDL</th><th>LDL</th><th>VLDL</th><th>BMI</th><th>CLASS</th></tr><tr><td>u32</td><td>u32</td><td>u32</td><td>u32</td><td>u32</td><td>u32</td><td>u32</td><td>u32</td><td>u32</td><td>u32</td><td>u32</td><td>u32</td><td>u32</td><td>u32</td></tr></thead><tbody><tr><td>0</td><td>0</td><td>0</td><td>1</td><td>1</td><td>2</td><td>0</td><td>2</td><td>2</td><td>1</td><td>2</td><td>1</td><td>0</td><td>0</td></tr></tbody></table></div>"
      ],
      "text/plain": [
       "shape: (1, 14)\n",
       "┌─────┬─────────────┬────────┬─────┬───┬─────┬──────┬─────┬───────┐\n",
       "│ ID  ┆ Patients_No ┆ Gender ┆ AGE ┆ … ┆ LDL ┆ VLDL ┆ BMI ┆ CLASS │\n",
       "│ --- ┆ ---         ┆ ---    ┆ --- ┆   ┆ --- ┆ ---  ┆ --- ┆ ---   │\n",
       "│ u32 ┆ u32         ┆ u32    ┆ u32 ┆   ┆ u32 ┆ u32  ┆ u32 ┆ u32   │\n",
       "╞═════╪═════════════╪════════╪═════╪═══╪═════╪══════╪═════╪═══════╡\n",
       "│ 0   ┆ 0           ┆ 0      ┆ 1   ┆ … ┆ 2   ┆ 1    ┆ 0   ┆ 0     │\n",
       "└─────┴─────────────┴────────┴─────┴───┴─────┴──────┴─────┴───────┘"
      ]
     },
     "execution_count": 20,
     "metadata": {},
     "output_type": "execute_result"
    }
   ],
   "source": [
    "# Confirm that there are no missing values\n",
    "df.null_count()"
   ]
  },
  {
   "cell_type": "code",
   "execution_count": 22,
   "metadata": {},
   "outputs": [],
   "source": [
    "# Drop missing values in the oter columns\n",
    "df = df.drop_nulls()"
   ]
  },
  {
   "cell_type": "code",
   "execution_count": 23,
   "metadata": {},
   "outputs": [
    {
     "data": {
      "text/html": [
       "<div><style>\n",
       ".dataframe > thead > tr > th,\n",
       ".dataframe > tbody > tr > td {\n",
       "  text-align: right;\n",
       "  white-space: pre-wrap;\n",
       "}\n",
       "</style>\n",
       "<small>shape: (1, 14)</small><table border=\"1\" class=\"dataframe\"><thead><tr><th>ID</th><th>Patients_No</th><th>Gender</th><th>AGE</th><th>Urea</th><th>Cr</th><th>HbA1c</th><th>Chol</th><th>TG</th><th>HDL</th><th>LDL</th><th>VLDL</th><th>BMI</th><th>CLASS</th></tr><tr><td>u32</td><td>u32</td><td>u32</td><td>u32</td><td>u32</td><td>u32</td><td>u32</td><td>u32</td><td>u32</td><td>u32</td><td>u32</td><td>u32</td><td>u32</td><td>u32</td></tr></thead><tbody><tr><td>0</td><td>0</td><td>0</td><td>0</td><td>0</td><td>0</td><td>0</td><td>0</td><td>0</td><td>0</td><td>0</td><td>0</td><td>0</td><td>0</td></tr></tbody></table></div>"
      ],
      "text/plain": [
       "shape: (1, 14)\n",
       "┌─────┬─────────────┬────────┬─────┬───┬─────┬──────┬─────┬───────┐\n",
       "│ ID  ┆ Patients_No ┆ Gender ┆ AGE ┆ … ┆ LDL ┆ VLDL ┆ BMI ┆ CLASS │\n",
       "│ --- ┆ ---         ┆ ---    ┆ --- ┆   ┆ --- ┆ ---  ┆ --- ┆ ---   │\n",
       "│ u32 ┆ u32         ┆ u32    ┆ u32 ┆   ┆ u32 ┆ u32  ┆ u32 ┆ u32   │\n",
       "╞═════╪═════════════╪════════╪═════╪═══╪═════╪══════╪═════╪═══════╡\n",
       "│ 0   ┆ 0           ┆ 0      ┆ 0   ┆ … ┆ 0   ┆ 0    ┆ 0   ┆ 0     │\n",
       "└─────┴─────────────┴────────┴─────┴───┴─────┴──────┴─────┴───────┘"
      ]
     },
     "execution_count": 23,
     "metadata": {},
     "output_type": "execute_result"
    }
   ],
   "source": [
    "# Now not column contains missing values.\n",
    "df.null_count()"
   ]
  },
  {
   "cell_type": "code",
   "execution_count": 24,
   "metadata": {},
   "outputs": [
    {
     "data": {
      "text/html": [
       "<div><style>\n",
       ".dataframe > thead > tr > th,\n",
       ".dataframe > tbody > tr > td {\n",
       "  text-align: right;\n",
       "  white-space: pre-wrap;\n",
       "}\n",
       "</style>\n",
       "<small>shape: (5, 2)</small><table border=\"1\" class=\"dataframe\"><thead><tr><th>CLASS</th><th>counts</th></tr><tr><td>str</td><td>u32</td></tr></thead><tbody><tr><td>&quot;N&quot;</td><td>102</td></tr><tr><td>&quot;Y &quot;</td><td>9</td></tr><tr><td>&quot;N &quot;</td><td>1</td></tr><tr><td>&quot;P&quot;</td><td>53</td></tr><tr><td>&quot;Y&quot;</td><td>832</td></tr></tbody></table></div>"
      ],
      "text/plain": [
       "shape: (5, 2)\n",
       "┌───────┬────────┐\n",
       "│ CLASS ┆ counts │\n",
       "│ ---   ┆ ---    │\n",
       "│ str   ┆ u32    │\n",
       "╞═══════╪════════╡\n",
       "│ N     ┆ 102    │\n",
       "│ Y     ┆ 9      │\n",
       "│ N     ┆ 1      │\n",
       "│ P     ┆ 53     │\n",
       "│ Y     ┆ 832    │\n",
       "└───────┴────────┘"
      ]
     },
     "execution_count": 24,
     "metadata": {},
     "output_type": "execute_result"
    }
   ],
   "source": [
    "# Check values in CLASS column\n",
    "df['CLASS'].value_counts()"
   ]
  },
  {
   "cell_type": "code",
   "execution_count": 29,
   "metadata": {},
   "outputs": [],
   "source": [
    "# There's an N with space. It should be N.\n",
    "# Replace N with space with N\n",
    "# Do the same for Y with space\n",
    "df = df.with_columns(pl.col('CLASS').str.replace('N ', 'N').str.replace('Y ', 'Y'))"
   ]
  },
  {
   "cell_type": "code",
   "execution_count": 32,
   "metadata": {},
   "outputs": [
    {
     "data": {
      "text/html": [
       "<div><style>\n",
       ".dataframe > thead > tr > th,\n",
       ".dataframe > tbody > tr > td {\n",
       "  text-align: right;\n",
       "  white-space: pre-wrap;\n",
       "}\n",
       "</style>\n",
       "<small>shape: (3, 2)</small><table border=\"1\" class=\"dataframe\"><thead><tr><th>CLASS</th><th>counts</th></tr><tr><td>str</td><td>u32</td></tr></thead><tbody><tr><td>&quot;Y&quot;</td><td>841</td></tr><tr><td>&quot;N&quot;</td><td>103</td></tr><tr><td>&quot;P&quot;</td><td>53</td></tr></tbody></table></div>"
      ],
      "text/plain": [
       "shape: (3, 2)\n",
       "┌───────┬────────┐\n",
       "│ CLASS ┆ counts │\n",
       "│ ---   ┆ ---    │\n",
       "│ str   ┆ u32    │\n",
       "╞═══════╪════════╡\n",
       "│ Y     ┆ 841    │\n",
       "│ N     ┆ 103    │\n",
       "│ P     ┆ 53     │\n",
       "└───────┴────────┘"
      ]
     },
     "execution_count": 32,
     "metadata": {},
     "output_type": "execute_result"
    }
   ],
   "source": [
    "df['CLASS'].value_counts()\n",
    "\n",
    "# df.unique('Gender') #interesting"
   ]
  },
  {
   "cell_type": "code",
   "execution_count": 35,
   "metadata": {},
   "outputs": [
    {
     "data": {
      "text/plain": [
       "<Axes: >"
      ]
     },
     "execution_count": 35,
     "metadata": {},
     "output_type": "execute_result"
    },
    {
     "data": {
      "image/png": "[encoded data removed]",
      "text/plain": [
       "<Figure size 640x480 with 1 Axes>"
      ]
     },
     "metadata": {},
     "output_type": "display_data"
    }
   ],
   "source": [
    "# Outliers are values that are extremely high or low.\n",
    "# They are usually errors in data collection.\n",
    "# They can also be extreme values that are not errors.\n",
    "\n",
    "# Check for outliers in data\n",
    "sns.boxplot(df['Cr'])"
   ]
  },
  {
   "cell_type": "code",
   "execution_count": 37,
   "metadata": {},
   "outputs": [
    {
     "data": {
      "text/plain": [
       "401.0"
      ]
     },
     "execution_count": 37,
     "metadata": {},
     "output_type": "execute_result"
    }
   ],
   "source": [
    "# Choose maximum quantile to fill in outliers\n",
    "max_quantile = df['Cr'].quantile(0.995)\n",
    "max_quantile"
   ]
  },
  {
   "cell_type": "code",
   "execution_count": 39,
   "metadata": {},
   "outputs": [
    {
     "data": {
      "text/html": [
       "<div><style>\n",
       ".dataframe > thead > tr > th,\n",
       ".dataframe > tbody > tr > td {\n",
       "  text-align: right;\n",
       "  white-space: pre-wrap;\n",
       "}\n",
       "</style>\n",
       "<small>shape: (4, 14)</small><table border=\"1\" class=\"dataframe\"><thead><tr><th>ID</th><th>Patients_No</th><th>Gender</th><th>AGE</th><th>Urea</th><th>Cr</th><th>HbA1c</th><th>Chol</th><th>TG</th><th>HDL</th><th>LDL</th><th>VLDL</th><th>BMI</th><th>CLASS</th></tr><tr><td>i64</td><td>i64</td><td>str</td><td>i64</td><td>f64</td><td>i64</td><td>f64</td><td>f64</td><td>f64</td><td>f64</td><td>f64</td><td>f64</td><td>f64</td><td>str</td></tr></thead><tbody><tr><td>1</td><td>34325</td><td>&quot;M&quot;</td><td>58</td><td>20.8</td><td>800</td><td>9.1</td><td>6.6</td><td>2.9</td><td>1.1</td><td>4.3</td><td>1.3</td><td>33.0</td><td>&quot;Y&quot;</td></tr><tr><td>266</td><td>24060</td><td>&quot;M&quot;</td><td>58</td><td>20.8</td><td>800</td><td>9.1</td><td>6.6</td><td>2.9</td><td>1.1</td><td>4.3</td><td>1.3</td><td>33.0</td><td>&quot;Y&quot;</td></tr><tr><td>1</td><td>34325</td><td>&quot;M&quot;</td><td>56</td><td>20.8</td><td>800</td><td>9.0</td><td>4.6</td><td>2.0</td><td>1.2</td><td>2.5</td><td>0.9</td><td>35.0</td><td>&quot;Y&quot;</td></tr><tr><td>19</td><td>51623</td><td>&quot;M&quot;</td><td>60</td><td>20.8</td><td>800</td><td>9.0</td><td>2.3</td><td>1.1</td><td>0.9</td><td>0.9</td><td>0.5</td><td>33.0</td><td>&quot;Y&quot;</td></tr></tbody></table></div>"
      ],
      "text/plain": [
       "shape: (4, 14)\n",
       "┌─────┬─────────────┬────────┬─────┬───┬─────┬──────┬──────┬───────┐\n",
       "│ ID  ┆ Patients_No ┆ Gender ┆ AGE ┆ … ┆ LDL ┆ VLDL ┆ BMI  ┆ CLASS │\n",
       "│ --- ┆ ---         ┆ ---    ┆ --- ┆   ┆ --- ┆ ---  ┆ ---  ┆ ---   │\n",
       "│ i64 ┆ i64         ┆ str    ┆ i64 ┆   ┆ f64 ┆ f64  ┆ f64  ┆ str   │\n",
       "╞═════╪═════════════╪════════╪═════╪═══╪═════╪══════╪══════╪═══════╡\n",
       "│ 1   ┆ 34325       ┆ M      ┆ 58  ┆ … ┆ 4.3 ┆ 1.3  ┆ 33.0 ┆ Y     │\n",
       "│ 266 ┆ 24060       ┆ M      ┆ 58  ┆ … ┆ 4.3 ┆ 1.3  ┆ 33.0 ┆ Y     │\n",
       "│ 1   ┆ 34325       ┆ M      ┆ 56  ┆ … ┆ 2.5 ┆ 0.9  ┆ 35.0 ┆ Y     │\n",
       "│ 19  ┆ 51623       ┆ M      ┆ 60  ┆ … ┆ 0.9 ┆ 0.5  ┆ 33.0 ┆ Y     │\n",
       "└─────┴─────────────┴────────┴─────┴───┴─────┴──────┴──────┴───────┘"
      ]
     },
     "execution_count": 39,
     "metadata": {},
     "output_type": "execute_result"
    }
   ],
   "source": [
    "# See the rows that are greater than the maximum quantile\n",
    "df.filter(pl.col('Cr') > max_quantile)"
   ]
  },
  {
   "cell_type": "code",
   "execution_count": 40,
   "metadata": {},
   "outputs": [],
   "source": [
    "# It's not many columns. Let's remove them from the dataset\n",
    "df = df.filter(pl.col('Cr') < max_quantile)"
   ]
  },
  {
   "cell_type": "code",
   "execution_count": 41,
   "metadata": {},
   "outputs": [
    {
     "data": {
      "text/plain": [
       "<Axes: >"
      ]
     },
     "execution_count": 41,
     "metadata": {},
     "output_type": "execute_result"
    },
    {
     "data": {
      "image/png": "[encoded data removed]",
      "text/plain": [
       "<Figure size 640x480 with 1 Axes>"
      ]
     },
     "metadata": {},
     "output_type": "display_data"
    }
   ],
   "source": [
    "# Check for outliers in HbA1c\n",
    "sns.boxplot(df['HbA1c'])"
   ]
  },
  {
   "cell_type": "code",
   "execution_count": 44,
   "metadata": {},
   "outputs": [
    {
     "data": {
      "text/html": [
       "<div><style>\n",
       ".dataframe > thead > tr > th,\n",
       ".dataframe > tbody > tr > td {\n",
       "  text-align: right;\n",
       "  white-space: pre-wrap;\n",
       "}\n",
       "</style>\n",
       "<small>shape: (990,)</small><table border=\"1\" class=\"dataframe\"><thead><tr><th></th></tr><tr><td>bool</td></tr></thead><tbody><tr><td>false</td></tr><tr><td>false</td></tr><tr><td>false</td></tr><tr><td>false</td></tr><tr><td>false</td></tr><tr><td>&hellip;</td></tr><tr><td>true</td></tr><tr><td>true</td></tr><tr><td>false</td></tr><tr><td>false</td></tr><tr><td>true</td></tr></tbody></table></div>"
      ],
      "text/plain": [
       "shape: (990,)\n",
       "Series: '' [bool]\n",
       "[\n",
       "\tfalse\n",
       "\tfalse\n",
       "\tfalse\n",
       "\tfalse\n",
       "\tfalse\n",
       "\t…\n",
       "\ttrue\n",
       "\ttrue\n",
       "\tfalse\n",
       "\tfalse\n",
       "\ttrue\n",
       "]"
      ]
     },
     "execution_count": 44,
     "metadata": {},
     "output_type": "execute_result"
    }
   ],
   "source": [
    "# Check for duplicate rows\n",
    "df.is_duplicated()"
   ]
  },
  {
   "cell_type": "code",
   "execution_count": 45,
   "metadata": {},
   "outputs": [
    {
     "data": {
      "text/plain": [
       "6"
      ]
     },
     "execution_count": 45,
     "metadata": {},
     "output_type": "execute_result"
    }
   ],
   "source": [
    "# Count the number of duplicate rows\n",
    "df.is_duplicated().sum()"
   ]
  },
  {
   "cell_type": "code",
   "execution_count": 49,
   "metadata": {},
   "outputs": [
    {
     "data": {
      "text/html": [
       "<div><style>\n",
       ".dataframe > thead > tr > th,\n",
       ".dataframe > tbody > tr > td {\n",
       "  text-align: right;\n",
       "  white-space: pre-wrap;\n",
       "}\n",
       "</style>\n",
       "<small>shape: (990, 14)</small><table border=\"1\" class=\"dataframe\"><thead><tr><th>ID</th><th>Patients_No</th><th>Gender</th><th>AGE</th><th>Urea</th><th>Cr</th><th>HbA1c</th><th>Chol</th><th>TG</th><th>HDL</th><th>LDL</th><th>VLDL</th><th>BMI</th><th>CLASS</th></tr><tr><td>i64</td><td>i64</td><td>str</td><td>i64</td><td>f64</td><td>i64</td><td>f64</td><td>f64</td><td>f64</td><td>f64</td><td>f64</td><td>f64</td><td>f64</td><td>str</td></tr></thead><tbody><tr><td>502</td><td>17975</td><td>&quot;F&quot;</td><td>50</td><td>4.7</td><td>46</td><td>4.9</td><td>4.2</td><td>0.9</td><td>2.4</td><td>1.4</td><td>0.5</td><td>24.0</td><td>&quot;N&quot;</td></tr><tr><td>735</td><td>34221</td><td>&quot;M&quot;</td><td>26</td><td>4.5</td><td>62</td><td>4.9</td><td>3.7</td><td>1.4</td><td>1.1</td><td>2.1</td><td>0.6</td><td>23.0</td><td>&quot;N&quot;</td></tr><tr><td>420</td><td>47975</td><td>&quot;F&quot;</td><td>50</td><td>4.7</td><td>46</td><td>4.9</td><td>4.2</td><td>0.9</td><td>2.4</td><td>1.4</td><td>0.5</td><td>24.0</td><td>&quot;N&quot;</td></tr><tr><td>680</td><td>87656</td><td>&quot;F&quot;</td><td>50</td><td>4.7</td><td>46</td><td>4.9</td><td>4.2</td><td>0.9</td><td>2.4</td><td>1.4</td><td>0.5</td><td>24.0</td><td>&quot;N&quot;</td></tr><tr><td>504</td><td>34223</td><td>&quot;M&quot;</td><td>33</td><td>7.1</td><td>46</td><td>4.9</td><td>4.9</td><td>1.0</td><td>0.8</td><td>2.0</td><td>0.4</td><td>21.0</td><td>&quot;N&quot;</td></tr><tr><td>&hellip;</td><td>&hellip;</td><td>&hellip;</td><td>&hellip;</td><td>&hellip;</td><td>&hellip;</td><td>&hellip;</td><td>&hellip;</td><td>&hellip;</td><td>&hellip;</td><td>&hellip;</td><td>&hellip;</td><td>&hellip;</td><td>&hellip;</td></tr><tr><td>188</td><td>454316</td><td>&quot;F&quot;</td><td>75</td><td>10.3</td><td>113</td><td>8.6</td><td>4.2</td><td>1.6</td><td>0.9</td><td>2.6</td><td>0.7</td><td>32.0</td><td>&quot;Y&quot;</td></tr><tr><td>189</td><td>454316</td><td>&quot;M&quot;</td><td>58</td><td>4.0</td><td>55</td><td>7.9</td><td>4.9</td><td>2.0</td><td>1.2</td><td>1.4</td><td>1.1</td><td>35.0</td><td>&quot;Y&quot;</td></tr><tr><td>192</td><td>454316</td><td>&quot;M&quot;</td><td>55</td><td>4.8</td><td>88</td><td>8.284155</td><td>5.7</td><td>4.0</td><td>0.9</td><td>3.3</td><td>1.8</td><td>30.0</td><td>&quot;Y&quot;</td></tr><tr><td>194</td><td>454316</td><td>&quot;F&quot;</td><td>57</td><td>4.1</td><td>70</td><td>9.3</td><td>5.3</td><td>3.3</td><td>1.0</td><td>1.4</td><td>1.3</td><td>29.0</td><td>&quot;Y&quot;</td></tr><tr><td>195</td><td>4543</td><td>&quot;f&quot;</td><td>55</td><td>4.1</td><td>34</td><td>13.9</td><td>5.4</td><td>1.6</td><td>1.6</td><td>3.1</td><td>0.7</td><td>33.0</td><td>&quot;Y&quot;</td></tr></tbody></table></div>"
      ],
      "text/plain": [
       "shape: (990, 14)\n",
       "┌─────┬─────────────┬────────┬─────┬───┬─────┬──────┬──────┬───────┐\n",
       "│ ID  ┆ Patients_No ┆ Gender ┆ AGE ┆ … ┆ LDL ┆ VLDL ┆ BMI  ┆ CLASS │\n",
       "│ --- ┆ ---         ┆ ---    ┆ --- ┆   ┆ --- ┆ ---  ┆ ---  ┆ ---   │\n",
       "│ i64 ┆ i64         ┆ str    ┆ i64 ┆   ┆ f64 ┆ f64  ┆ f64  ┆ str   │\n",
       "╞═════╪═════════════╪════════╪═════╪═══╪═════╪══════╪══════╪═══════╡\n",
       "│ 502 ┆ 17975       ┆ F      ┆ 50  ┆ … ┆ 1.4 ┆ 0.5  ┆ 24.0 ┆ N     │\n",
       "│ 735 ┆ 34221       ┆ M      ┆ 26  ┆ … ┆ 2.1 ┆ 0.6  ┆ 23.0 ┆ N     │\n",
       "│ 420 ┆ 47975       ┆ F      ┆ 50  ┆ … ┆ 1.4 ┆ 0.5  ┆ 24.0 ┆ N     │\n",
       "│ 680 ┆ 87656       ┆ F      ┆ 50  ┆ … ┆ 1.4 ┆ 0.5  ┆ 24.0 ┆ N     │\n",
       "│ 504 ┆ 34223       ┆ M      ┆ 33  ┆ … ┆ 2.0 ┆ 0.4  ┆ 21.0 ┆ N     │\n",
       "│ …   ┆ …           ┆ …      ┆ …   ┆ … ┆ …   ┆ …    ┆ …    ┆ …     │\n",
       "│ 188 ┆ 454316      ┆ F      ┆ 75  ┆ … ┆ 2.6 ┆ 0.7  ┆ 32.0 ┆ Y     │\n",
       "│ 189 ┆ 454316      ┆ M      ┆ 58  ┆ … ┆ 1.4 ┆ 1.1  ┆ 35.0 ┆ Y     │\n",
       "│ 192 ┆ 454316      ┆ M      ┆ 55  ┆ … ┆ 3.3 ┆ 1.8  ┆ 30.0 ┆ Y     │\n",
       "│ 194 ┆ 454316      ┆ F      ┆ 57  ┆ … ┆ 1.4 ┆ 1.3  ┆ 29.0 ┆ Y     │\n",
       "│ 195 ┆ 4543        ┆ f      ┆ 55  ┆ … ┆ 3.1 ┆ 0.7  ┆ 33.0 ┆ Y     │\n",
       "└─────┴─────────────┴────────┴─────┴───┴─────┴──────┴──────┴───────┘"
      ]
     },
     "execution_count": 49,
     "metadata": {},
     "output_type": "execute_result"
    }
   ],
   "source": [
    "df"
   ]
  },
  {
   "cell_type": "code",
   "execution_count": 50,
   "metadata": {},
   "outputs": [
    {
     "data": {
      "text/html": [
       "<div><style>\n",
       ".dataframe > thead > tr > th,\n",
       ".dataframe > tbody > tr > td {\n",
       "  text-align: right;\n",
       "  white-space: pre-wrap;\n",
       "}\n",
       "</style>\n",
       "<small>shape: (987, 14)</small><table border=\"1\" class=\"dataframe\"><thead><tr><th>ID</th><th>Patients_No</th><th>Gender</th><th>AGE</th><th>Urea</th><th>Cr</th><th>HbA1c</th><th>Chol</th><th>TG</th><th>HDL</th><th>LDL</th><th>VLDL</th><th>BMI</th><th>CLASS</th></tr><tr><td>i64</td><td>i64</td><td>str</td><td>i64</td><td>f64</td><td>i64</td><td>f64</td><td>f64</td><td>f64</td><td>f64</td><td>f64</td><td>f64</td><td>f64</td><td>str</td></tr></thead><tbody><tr><td>634</td><td>34224</td><td>&quot;F&quot;</td><td>45</td><td>2.3</td><td>24</td><td>4.0</td><td>2.9</td><td>1.0</td><td>1.0</td><td>1.5</td><td>0.4</td><td>21.0</td><td>&quot;N&quot;</td></tr><tr><td>132</td><td>34234</td><td>&quot;F&quot;</td><td>45</td><td>4.6</td><td>54</td><td>5.1</td><td>4.2</td><td>1.7</td><td>1.2</td><td>2.2</td><td>0.8</td><td>23.0</td><td>&quot;N&quot;</td></tr><tr><td>729</td><td>34238</td><td>&quot;F&quot;</td><td>49</td><td>2.2</td><td>28</td><td>4.1</td><td>5.0</td><td>1.3</td><td>1.2</td><td>3.3</td><td>0.6</td><td>24.0</td><td>&quot;N&quot;</td></tr><tr><td>742</td><td>34239</td><td>&quot;F&quot;</td><td>49</td><td>3.8</td><td>55</td><td>4.0</td><td>4.4</td><td>0.9</td><td>1.0</td><td>1.3</td><td>0.4</td><td>23.0</td><td>&quot;N&quot;</td></tr><tr><td>97</td><td>12744</td><td>&quot;F&quot;</td><td>42</td><td>5.0</td><td>73</td><td>4.5</td><td>6.2</td><td>1.0</td><td>1.1</td><td>4.6</td><td>0.4</td><td>24.0</td><td>&quot;N&quot;</td></tr><tr><td>&hellip;</td><td>&hellip;</td><td>&hellip;</td><td>&hellip;</td><td>&hellip;</td><td>&hellip;</td><td>&hellip;</td><td>&hellip;</td><td>&hellip;</td><td>&hellip;</td><td>&hellip;</td><td>&hellip;</td><td>&hellip;</td><td>&hellip;</td></tr><tr><td>195</td><td>4543</td><td>&quot;f&quot;</td><td>55</td><td>4.1</td><td>34</td><td>13.9</td><td>5.4</td><td>1.6</td><td>1.6</td><td>3.1</td><td>0.7</td><td>33.0</td><td>&quot;Y&quot;</td></tr><tr><td>199</td><td>454316</td><td>&quot;M&quot;</td><td>69</td><td>10.3</td><td>185</td><td>7.7</td><td>4.9</td><td>1.9</td><td>1.2</td><td>3.0</td><td>0.7</td><td>37.0</td><td>&quot;Y&quot;</td></tr><tr><td>200</td><td>454317</td><td>&quot;M&quot;</td><td>71</td><td>11.0</td><td>97</td><td>7.0</td><td>7.5</td><td>1.7</td><td>1.2</td><td>1.8</td><td>0.6</td><td>30.0</td><td>&quot;Y&quot;</td></tr><tr><td>671</td><td>876534</td><td>&quot;M&quot;</td><td>31</td><td>3.0</td><td>60</td><td>12.3</td><td>4.1</td><td>2.2</td><td>0.7</td><td>2.4</td><td>15.4</td><td>37.2</td><td>&quot;Y&quot;</td></tr><tr><td>194</td><td>454316</td><td>&quot;F&quot;</td><td>57</td><td>4.1</td><td>70</td><td>9.3</td><td>5.3</td><td>3.3</td><td>1.0</td><td>1.4</td><td>1.3</td><td>29.0</td><td>&quot;Y&quot;</td></tr></tbody></table></div>"
      ],
      "text/plain": [
       "shape: (987, 14)\n",
       "┌─────┬─────────────┬────────┬─────┬───┬─────┬──────┬──────┬───────┐\n",
       "│ ID  ┆ Patients_No ┆ Gender ┆ AGE ┆ … ┆ LDL ┆ VLDL ┆ BMI  ┆ CLASS │\n",
       "│ --- ┆ ---         ┆ ---    ┆ --- ┆   ┆ --- ┆ ---  ┆ ---  ┆ ---   │\n",
       "│ i64 ┆ i64         ┆ str    ┆ i64 ┆   ┆ f64 ┆ f64  ┆ f64  ┆ str   │\n",
       "╞═════╪═════════════╪════════╪═════╪═══╪═════╪══════╪══════╪═══════╡\n",
       "│ 634 ┆ 34224       ┆ F      ┆ 45  ┆ … ┆ 1.5 ┆ 0.4  ┆ 21.0 ┆ N     │\n",
       "│ 132 ┆ 34234       ┆ F      ┆ 45  ┆ … ┆ 2.2 ┆ 0.8  ┆ 23.0 ┆ N     │\n",
       "│ 729 ┆ 34238       ┆ F      ┆ 49  ┆ … ┆ 3.3 ┆ 0.6  ┆ 24.0 ┆ N     │\n",
       "│ 742 ┆ 34239       ┆ F      ┆ 49  ┆ … ┆ 1.3 ┆ 0.4  ┆ 23.0 ┆ N     │\n",
       "│ 97  ┆ 12744       ┆ F      ┆ 42  ┆ … ┆ 4.6 ┆ 0.4  ┆ 24.0 ┆ N     │\n",
       "│ …   ┆ …           ┆ …      ┆ …   ┆ … ┆ …   ┆ …    ┆ …    ┆ …     │\n",
       "│ 195 ┆ 4543        ┆ f      ┆ 55  ┆ … ┆ 3.1 ┆ 0.7  ┆ 33.0 ┆ Y     │\n",
       "│ 199 ┆ 454316      ┆ M      ┆ 69  ┆ … ┆ 3.0 ┆ 0.7  ┆ 37.0 ┆ Y     │\n",
       "│ 200 ┆ 454317      ┆ M      ┆ 71  ┆ … ┆ 1.8 ┆ 0.6  ┆ 30.0 ┆ Y     │\n",
       "│ 671 ┆ 876534      ┆ M      ┆ 31  ┆ … ┆ 2.4 ┆ 15.4 ┆ 37.2 ┆ Y     │\n",
       "│ 194 ┆ 454316      ┆ F      ┆ 57  ┆ … ┆ 1.4 ┆ 1.3  ┆ 29.0 ┆ Y     │\n",
       "└─────┴─────────────┴────────┴─────┴───┴─────┴──────┴──────┴───────┘"
      ]
     },
     "execution_count": 50,
     "metadata": {},
     "output_type": "execute_result"
    }
   ],
   "source": [
    "# Drop duplicate rows\n",
    "df = df.unique()\n",
    "df"
   ]
  },
  {
   "cell_type": "code",
   "execution_count": 51,
   "metadata": {},
   "outputs": [
    {
     "data": {
      "text/plain": [
       "0"
      ]
     },
     "execution_count": 51,
     "metadata": {},
     "output_type": "execute_result"
    }
   ],
   "source": [
    "# Check if duplicates are gone\n",
    "df.is_duplicated().sum()"
   ]
  },
  {
   "cell_type": "code",
   "execution_count": null,
   "metadata": {},
   "outputs": [],
   "source": [
    "# Save the clean data to csv\n",
    "# df.to_csv('../data/diabetes_clean.csv')"
   ]
  }
 ],
 "metadata": {
  "kernelspec": {
   "display_name": "time_env",
   "language": "python",
   "name": "python3"
  },
  "language_info": {
   "codemirror_mode": {
    "name": "ipython",
    "version": 3
   },
   "file_extension": ".py",
   "mimetype": "text/x-python",
   "name": "python",
   "nbconvert_exporter": "python",
   "pygments_lexer": "ipython3",
   "version": "3.11.4"
  }
 },
 "nbformat": 4,
 "nbformat_minor": 2
}
